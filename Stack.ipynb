{
  "nbformat": 4,
  "nbformat_minor": 0,
  "metadata": {
    "colab": {
      "name": "Stack.ipynb",
      "provenance": [],
      "authorship_tag": "ABX9TyMbnVYcHZD0/5sJPFF5kDzd",
      "include_colab_link": true
    },
    "kernelspec": {
      "name": "python3",
      "display_name": "Python 3"
    },
    "language_info": {
      "name": "python"
    }
  },
  "cells": [
    {
      "cell_type": "markdown",
      "metadata": {
        "id": "view-in-github",
        "colab_type": "text"
      },
      "source": [
        "<a href=\"https://colab.research.google.com/github/Cyrill98/Data-Structures-Algorithms/blob/main/Stack.ipynb\" target=\"_parent\"><img src=\"https://colab.research.google.com/assets/colab-badge.svg\" alt=\"Open In Colab\"/></a>"
      ]
    },
    {
      "cell_type": "markdown",
      "metadata": {
        "id": "Flc72_wE3RoT"
      },
      "source": [
        "In a stack the element insreted last in sequence will come out first as we can remove only from the top of the stack. Such feature is known as Last in First Out(LIFO) feature. The operations of adding and removing the elements is known as PUSH and POP. In the following program we implement it as add and and remove functions. We declare an empty list and use the append() and pop() methods to add and remove the data elements."
      ]
    },
    {
      "cell_type": "markdown",
      "metadata": {
        "id": "YTAsyhNd3WDS"
      },
      "source": [
        "**Push into Stack**"
      ]
    },
    {
      "cell_type": "code",
      "metadata": {
        "colab": {
          "base_uri": "https://localhost:8080/"
        },
        "id": "oiMH6kLC3J1c",
        "outputId": "0156a87c-3184-4855-8574-52b694351c34"
      },
      "source": [
        "class Stack:\n",
        "   def __init__(self):\n",
        "      self.stack = []\n",
        "\n",
        "   def add(self, dataval):\n",
        "# Use list append method to add element\n",
        "      if dataval not in self.stack:\n",
        "         self.stack.append(dataval)\n",
        "         return True\n",
        "      else:\n",
        "         return False\n",
        "# Use peek to look at the top of the stack\n",
        "   def peek(self):     \n",
        "\t   return self.stack[-1]\n",
        "\n",
        "AStack = Stack()\n",
        "AStack.add(\"Mon\")\n",
        "AStack.add(\"Tue\")\n",
        "AStack.peek()\n",
        "print(AStack.peek())\n",
        "AStack.add(\"Wed\")\n",
        "AStack.add(\"Thu\")\n",
        "print(AStack.peek())"
      ],
      "execution_count": 1,
      "outputs": [
        {
          "output_type": "stream",
          "name": "stdout",
          "text": [
            "Tue\n",
            "Thu\n"
          ]
        }
      ]
    },
    {
      "cell_type": "markdown",
      "metadata": {
        "id": "_PE5dM7U3zHD"
      },
      "source": [
        "Pop from a Stack"
      ]
    },
    {
      "cell_type": "code",
      "metadata": {
        "colab": {
          "base_uri": "https://localhost:8080/"
        },
        "id": "0DkYTkyI31fe",
        "outputId": "82898539-46a6-4b16-9098-6c0ace34227d"
      },
      "source": [
        "class Stack:\n",
        "   def __init__(self):\n",
        "      self.stack = []\n",
        "\n",
        "   def add(self, dataval):\n",
        "# Use list append method to add element\n",
        "      if dataval not in self.stack:\n",
        "         self.stack.append(dataval)\n",
        "         return True\n",
        "      else:\n",
        "         return False\n",
        "        \n",
        "# Use list pop method to remove element\n",
        "   def remove(self):\n",
        "      if len(self.stack) <= 0:\n",
        "         return (\"No element in the Stack\")\n",
        "      else:\n",
        "         return self.stack.pop()\n",
        "\n",
        "AStack = Stack()\n",
        "AStack.add(\"Mon\")\n",
        "AStack.add(\"Tue\")\n",
        "AStack.add(\"Wed\")\n",
        "AStack.add(\"Thu\")\n",
        "print(AStack.remove())\n",
        "print(AStack.remove())"
      ],
      "execution_count": 2,
      "outputs": [
        {
          "output_type": "stream",
          "name": "stdout",
          "text": [
            "Thu\n",
            "Wed\n"
          ]
        }
      ]
    },
    {
      "cell_type": "markdown",
      "metadata": {
        "id": "7FGsq0MJ5Ysv"
      },
      "source": [
        "Create stack"
      ]
    },
    {
      "cell_type": "code",
      "metadata": {
        "colab": {
          "base_uri": "https://localhost:8080/"
        },
        "id": "wqFJUgyZ49K-",
        "outputId": "4a45f921-9ff4-4f31-ca3f-24a3c7b209b8"
      },
      "source": [
        "stack = []\n",
        "\n",
        "stack.append(int(input(\"Enter first stack\\n\")))\n",
        "stack.append(int(input(\"Enter second stack\\n\")))\n",
        "stack.append(int(input(\"Enter third stack\\n\")))\n",
        "\n",
        "\n",
        "print('Initial stack')\n",
        "print(stack)\n",
        "\n",
        "#Pop from stack\n",
        "stack.pop()\n",
        "# Notice that when pop, LIFO was implemented\n",
        "print('After pop stack: \\n',stack)"
      ],
      "execution_count": 11,
      "outputs": [
        {
          "output_type": "stream",
          "name": "stdout",
          "text": [
            "Enter first stack\n",
            "321\n",
            "Enter second stack\n",
            "543\n",
            "Enter third stack\n",
            "654\n",
            "Initial stack\n",
            "[321, 543, 654]\n",
            "After pop stack: \n",
            " [321, 543]\n"
          ]
        }
      ]
    }
  ]
}