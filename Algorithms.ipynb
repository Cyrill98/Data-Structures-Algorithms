{
  "nbformat": 4,
  "nbformat_minor": 0,
  "metadata": {
    "colab": {
      "name": "Algorithms.ipynb",
      "provenance": [],
      "authorship_tag": "ABX9TyNdS/YXckYqdzx2N6mbB/zJ",
      "include_colab_link": true
    },
    "kernelspec": {
      "name": "python3",
      "display_name": "Python 3"
    },
    "language_info": {
      "name": "python"
    }
  },
  "cells": [
    {
      "cell_type": "markdown",
      "metadata": {
        "id": "view-in-github",
        "colab_type": "text"
      },
      "source": [
        "<a href=\"https://colab.research.google.com/github/Cyrill98/Data-Structures-Algorithms/blob/main/Algorithms.ipynb\" target=\"_parent\"><img src=\"https://colab.research.google.com/assets/colab-badge.svg\" alt=\"Open In Colab\"/></a>"
      ]
    },
    {
      "cell_type": "markdown",
      "metadata": {
        "id": "9svOE1geLDxe"
      },
      "source": [
        "Divide and Conquer - Binary Search, Maximum Subarray"
      ]
    },
    {
      "cell_type": "code",
      "metadata": {
        "id": "yPvQ_kIEK_E4"
      },
      "source": [
        ""
      ],
      "execution_count": null,
      "outputs": []
    },
    {
      "cell_type": "markdown",
      "metadata": {
        "id": "wPsp1sKBLJVt"
      },
      "source": [
        "Greedy Algorithm - Activity Selection, Huffman Coding"
      ]
    },
    {
      "cell_type": "code",
      "metadata": {
        "id": "e6HRP80ELPcN"
      },
      "source": [
        ""
      ],
      "execution_count": null,
      "outputs": []
    },
    {
      "cell_type": "markdown",
      "metadata": {
        "id": "xPK1o-70LP2j"
      },
      "source": [
        "Dynamic Programming - Matrix Chain Multiplication, Knapsack"
      ]
    },
    {
      "cell_type": "code",
      "metadata": {
        "id": "WKIRKTWDLXqm"
      },
      "source": [
        ""
      ],
      "execution_count": null,
      "outputs": []
    },
    {
      "cell_type": "markdown",
      "metadata": {
        "id": "1I0H1v79LYDF"
      },
      "source": [
        "Linear Programming - Variable Maximisation, Linear Time Sorting"
      ]
    },
    {
      "cell_type": "code",
      "metadata": {
        "id": "23QMnNEXLeeW"
      },
      "source": [
        ""
      ],
      "execution_count": null,
      "outputs": []
    },
    {
      "cell_type": "markdown",
      "metadata": {
        "id": "HPHgrWJXLe3p"
      },
      "source": [
        "String Algorithms - LCS, Manacher, Edit Distance"
      ]
    },
    {
      "cell_type": "code",
      "metadata": {
        "id": "LX8FZxtvLk0e"
      },
      "source": [
        ""
      ],
      "execution_count": null,
      "outputs": []
    }
  ]
}