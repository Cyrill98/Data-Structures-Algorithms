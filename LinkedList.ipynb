{
  "nbformat": 4,
  "nbformat_minor": 0,
  "metadata": {
    "colab": {
      "name": "LinkedList.ipynb",
      "provenance": [],
      "authorship_tag": "ABX9TyO5paUiIozIxHGTzumsEZ5+",
      "include_colab_link": true
    },
    "kernelspec": {
      "name": "python3",
      "display_name": "Python 3"
    },
    "language_info": {
      "name": "python"
    }
  },
  "cells": [
    {
      "cell_type": "markdown",
      "metadata": {
        "id": "view-in-github",
        "colab_type": "text"
      },
      "source": [
        "<a href=\"https://colab.research.google.com/github/Cyrill98/Data-Structures-Algorithms/blob/main/LinkedList.ipynb\" target=\"_parent\"><img src=\"https://colab.research.google.com/assets/colab-badge.svg\" alt=\"Open In Colab\"/></a>"
      ]
    },
    {
      "cell_type": "markdown",
      "metadata": {
        "id": "Q8CVvSfDkgul"
      },
      "source": [
        "\n",
        "\n",
        "\n",
        "#[**Linked Lists**](https://www.tutorialspoint.com/python_data_structure/python_linked_lists.htm)"
      ]
    },
    {
      "cell_type": "markdown",
      "metadata": {
        "id": "DTsFXwR6oLct"
      },
      "source": [
        "1. Create linked list\n",
        "\n",
        " We create a Node object and create another class to use this ode object. We pass the appropriate values through the node object to point the to the next data elements. The below program creates the linked list with three data elements."
      ]
    },
    {
      "cell_type": "code",
      "metadata": {
        "id": "YpTPIPwMkVc1"
      },
      "source": [
        "class Node:\n",
        "   def __init__(self, dataval=None):\n",
        "      self.dataval = dataval\n",
        "      self.nextval = None\n",
        "\n",
        "class SLinkedList:\n",
        "   def __init__(self):\n",
        "      self.headval = None\n",
        "\n",
        "list1 = SLinkedList()\n",
        "list1.headval = Node(\"Mon\")\n",
        "e2 = Node(\"Tue\")\n",
        "e3 = Node(\"Wed\")\n",
        "# Link first Node to second node\n",
        "list1.headval.nextval = e2\n",
        "\n",
        "# Link second Node to third node\n",
        "e2.nextval = e3"
      ],
      "execution_count": 5,
      "outputs": []
    },
    {
      "cell_type": "markdown",
      "metadata": {
        "id": "yospEcNooUb_"
      },
      "source": [
        "2. Traversing a linked list\n",
        "\n",
        "Singly linked lists can be traversed in only forward direction starting form the first data element. We simply print the value of the next data element by assigning the pointer of the next node to the current data element."
      ]
    },
    {
      "cell_type": "code",
      "metadata": {
        "colab": {
          "base_uri": "https://localhost:8080/"
        },
        "id": "HGVUtAHfoVaq",
        "outputId": "0bde3873-721f-4d91-edf0-681557f2be97"
      },
      "source": [
        "class Node:\n",
        "   def __init__(self, dataval=None):\n",
        "      self.dataval = dataval\n",
        "      self.nextval = None\n",
        "\n",
        "class SLinkedList:\n",
        "   def __init__(self):\n",
        "      self.headval = None\n",
        "\n",
        "   def listprint(self):\n",
        "      printval = self.headval\n",
        "      while printval is not None:\n",
        "         print (printval.dataval)\n",
        "         printval = printval.nextval\n",
        "\n",
        "list = SLinkedList()\n",
        "list.headval = Node(\"Mon\")\n",
        "e2 = Node(\"Tue\")\n",
        "e3 = Node(\"Wed\")\n",
        "\n",
        "# Link first Node to second node\n",
        "list.headval.nextval = e2\n",
        "\n",
        "# Link second Node to third node\n",
        "e2.nextval = e3\n",
        "\n",
        "list.listprint()"
      ],
      "execution_count": 6,
      "outputs": [
        {
          "output_type": "stream",
          "name": "stdout",
          "text": [
            "Mon\n",
            "Tue\n",
            "Wed\n"
          ]
        }
      ]
    },
    {
      "cell_type": "markdown",
      "metadata": {
        "id": "91RNvj1CogM4"
      },
      "source": [
        "3. Inserting a node in linked list"
      ]
    },
    {
      "cell_type": "markdown",
      "metadata": {
        "id": "Ll182dIJoogM"
      },
      "source": [
        "i. At the beginning"
      ]
    },
    {
      "cell_type": "code",
      "metadata": {
        "colab": {
          "base_uri": "https://localhost:8080/"
        },
        "id": "o6PnCa4jogrz",
        "outputId": "a849c0b9-974c-4c6e-8212-b1d4d3284376"
      },
      "source": [
        "class Node:\n",
        "   def __init__(self, dataval=None):\n",
        "      self.dataval = dataval\n",
        "      self.nextval = None\n",
        "class SLinkedList:\n",
        "   def __init__(self):\n",
        "      self.headval = None\n",
        "# Function to add newnode\n",
        "   def AtEnd(self, newdata):\n",
        "      NewNode = Node(newdata)\n",
        "      if self.headval is None:\n",
        "         self.headval = NewNode\n",
        "         return\n",
        "      laste = self.headval\n",
        "      while(laste.nextval):\n",
        "         laste = laste.nextval\n",
        "      laste.nextval=NewNode\n",
        "# Print the linked list\n",
        "   def listprint(self):\n",
        "      printval = self.headval\n",
        "      while printval is not None:\n",
        "         print (printval.dataval)\n",
        "         printval = printval.nextval\n",
        "\n",
        "list = SLinkedList()\n",
        "list.headval = Node(\"Mon\")\n",
        "e2 = Node(\"Tue\")\n",
        "e3 = Node(\"Wed\")\n",
        "\n",
        "list.headval.nextval = e2\n",
        "e2.nextval = e3\n",
        "\n",
        "list.AtEnd(\"Thu\")\n",
        "\n",
        "list.listprint()"
      ],
      "execution_count": 3,
      "outputs": [
        {
          "output_type": "stream",
          "name": "stdout",
          "text": [
            "Mon\n",
            "Tue\n",
            "Wed\n",
            "Thu\n"
          ]
        }
      ]
    },
    {
      "cell_type": "markdown",
      "metadata": {
        "id": "DWrCylM1ormM"
      },
      "source": [
        "II. At the end"
      ]
    },
    {
      "cell_type": "code",
      "metadata": {
        "colab": {
          "base_uri": "https://localhost:8080/"
        },
        "id": "C6putqJiotJK",
        "outputId": "c9689f08-4887-4c75-cfe4-27e3efa74e96"
      },
      "source": [
        "class Node:\n",
        "   def __init__(self, dataval=None):\n",
        "      self.dataval = dataval\n",
        "      self.nextval = None\n",
        "class SLinkedList:\n",
        "   def __init__(self):\n",
        "      self.headval = None\n",
        "# Function to add newnode\n",
        "   def AtEnd(self, newdata):\n",
        "      NewNode = Node(newdata)\n",
        "      if self.headval is None:\n",
        "         self.headval = NewNode\n",
        "         return\n",
        "      laste = self.headval\n",
        "      while(laste.nextval):\n",
        "         laste = laste.nextval\n",
        "      laste.nextval=NewNode\n",
        "# Print the linked list\n",
        "   def listprint(self):\n",
        "      printval = self.headval\n",
        "      while printval is not None:\n",
        "         print (printval.dataval)\n",
        "         printval = printval.nextval\n",
        "\n",
        "list = SLinkedList()\n",
        "list.headval = Node(\"Mon\")\n",
        "e2 = Node(\"Tue\")\n",
        "e3 = Node(\"Wed\")\n",
        "\n",
        "list.headval.nextval = e2\n",
        "e2.nextval = e3\n",
        "\n",
        "list.AtEnd(\"Thu\")\n",
        "\n",
        "list.listprint()"
      ],
      "execution_count": 4,
      "outputs": [
        {
          "output_type": "stream",
          "name": "stdout",
          "text": [
            "Mon\n",
            "Tue\n",
            "Wed\n",
            "Thu\n"
          ]
        }
      ]
    },
    {
      "cell_type": "markdown",
      "metadata": {
        "id": "YcQWHqDop0s8"
      },
      "source": [
        "**Inserting in between two Data Nodes**\n",
        "\n",
        "\n"
      ]
    },
    {
      "cell_type": "code",
      "metadata": {
        "colab": {
          "base_uri": "https://localhost:8080/"
        },
        "id": "wTho3me2p3ox",
        "outputId": "a9783386-0925-4c9c-a802-86a4f1e90690"
      },
      "source": [
        "class Node:\n",
        "   def __init__(self, dataval=None):\n",
        "      self.dataval = dataval\n",
        "      self.nextval = None\n",
        "class SLinkedList:\n",
        "   def __init__(self):\n",
        "      self.headval = None\n",
        "\n",
        "# Function to add node\n",
        "   def Inbetween(self,middle_node,newdata):\n",
        "      if middle_node is None:\n",
        "         print(\"The mentioned node is absent\")\n",
        "         return\n",
        "\n",
        "      NewNode = Node(newdata)\n",
        "      NewNode.nextval = middle_node.nextval\n",
        "      middle_node.nextval = NewNode\n",
        "\n",
        "# Print the linked list\n",
        "   def listprint(self):\n",
        "      printval = self.headval\n",
        "      while printval is not None:\n",
        "         print (printval.dataval)\n",
        "         printval = printval.nextval\n",
        "\n",
        "list = SLinkedList()\n",
        "list.headval = Node(\"Mon\")\n",
        "e2 = Node(\"Tue\")\n",
        "e3 = Node(\"Thu\")\n",
        "\n",
        "list.headval.nextval = e2\n",
        "e2.nextval = e3\n",
        "\n",
        "list.Inbetween(list.headval.nextval,\"Fri\")\n",
        "\n",
        "list.listprint()"
      ],
      "execution_count": 7,
      "outputs": [
        {
          "output_type": "stream",
          "name": "stdout",
          "text": [
            "Mon\n",
            "Tue\n",
            "Fri\n",
            "Thu\n"
          ]
        }
      ]
    },
    {
      "cell_type": "markdown",
      "metadata": {
        "id": "izhuqHIJqA2X"
      },
      "source": [
        "Removing an item"
      ]
    },
    {
      "cell_type": "code",
      "metadata": {
        "colab": {
          "base_uri": "https://localhost:8080/"
        },
        "id": "2Rvo4tmFqDCW",
        "outputId": "320bd7ee-e891-4e61-eeb3-175fd3bf662f"
      },
      "source": [
        "class Node:\n",
        "   def __init__(self, data=None):\n",
        "      self.data = data\n",
        "      self.next = None\n",
        "class SLinkedList:\n",
        "   def __init__(self):\n",
        "      self.head = None\n",
        "\n",
        "   def Atbegining(self, data_in):\n",
        "      NewNode = Node(data_in)\n",
        "      NewNode.next = self.head\n",
        "      self.head = NewNode\n",
        "\n",
        "# Function to remove node\n",
        "   def RemoveNode(self, Removekey):\n",
        "      HeadVal = self.head\n",
        "         \n",
        "      if (HeadVal is not None):\n",
        "         if (HeadVal.data == Removekey):\n",
        "            self.head = HeadVal.next\n",
        "            HeadVal = None\n",
        "            return\n",
        "      while (HeadVal is not None):\n",
        "         if HeadVal.data == Removekey:\n",
        "            break\n",
        "         prev = HeadVal\n",
        "         HeadVal = HeadVal.next\n",
        "\n",
        "      if (HeadVal == None):\n",
        "         return\n",
        "\n",
        "      prev.next = HeadVal.next\n",
        "      HeadVal = None\n",
        "\n",
        "   def LListprint(self):\n",
        "      printval = self.head\n",
        "      while (printval):\n",
        "         print(printval.data),\n",
        "         printval = printval.next\n",
        "\n",
        "llist = SLinkedList()\n",
        "llist.Atbegining(\"Mon\")\n",
        "llist.Atbegining(\"Tue\")\n",
        "llist.Atbegining(\"Wed\")\n",
        "llist.Atbegining(\"Thu\")\n",
        "llist.RemoveNode(\"Tue\")\n",
        "llist.LListprint()"
      ],
      "execution_count": 9,
      "outputs": [
        {
          "output_type": "stream",
          "name": "stdout",
          "text": [
            "Thu\n",
            "Wed\n",
            "Mon\n"
          ]
        }
      ]
    }
  ]
}