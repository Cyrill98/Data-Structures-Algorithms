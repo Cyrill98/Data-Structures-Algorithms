{
  "nbformat": 4,
  "nbformat_minor": 0,
  "metadata": {
    "colab": {
      "name": "Non Linear Data Structure.ipynb",
      "provenance": [],
      "authorship_tag": "ABX9TyONlQifi7Xeo8H2eMjyK5Nw",
      "include_colab_link": true
    },
    "kernelspec": {
      "name": "python3",
      "display_name": "Python 3"
    },
    "language_info": {
      "name": "python"
    }
  },
  "cells": [
    {
      "cell_type": "markdown",
      "metadata": {
        "id": "view-in-github",
        "colab_type": "text"
      },
      "source": [
        "<a href=\"https://colab.research.google.com/github/Cyrill98/Data-Structures-Algorithms/blob/main/Non_Linear_Data_Structure.ipynb\" target=\"_parent\"><img src=\"https://colab.research.google.com/assets/colab-badge.svg\" alt=\"Open In Colab\"/></a>"
      ]
    },
    {
      "cell_type": "markdown",
      "metadata": {
        "id": "8clwy8RnL_Gz"
      },
      "source": [
        "Trees - Binary Trees, General Tree, Lowest Common Ancestor"
      ]
    },
    {
      "cell_type": "code",
      "metadata": {
        "id": "m7utfL0JL7A4"
      },
      "source": [
        ""
      ],
      "execution_count": null,
      "outputs": []
    },
    {
      "cell_type": "markdown",
      "metadata": {
        "id": "CU8NRLjhMFnl"
      },
      "source": [
        "Binary Search Tree - Inorder Traversal, diameter, depth, number of nodes, etc"
      ]
    },
    {
      "cell_type": "code",
      "metadata": {
        "id": "reHADO2WMOwx"
      },
      "source": [
        ""
      ],
      "execution_count": null,
      "outputs": []
    },
    {
      "cell_type": "markdown",
      "metadata": {
        "id": "56jqkKyFMPS4"
      },
      "source": [
        "Heaps - Array Implementation, Heapify, Heap Sort"
      ]
    },
    {
      "cell_type": "code",
      "metadata": {
        "id": "MmdPxAx9MWIt"
      },
      "source": [
        ""
      ],
      "execution_count": null,
      "outputs": []
    },
    {
      "cell_type": "markdown",
      "metadata": {
        "id": "cRZ4NATGMXXe"
      },
      "source": [
        "Union Find"
      ]
    },
    {
      "cell_type": "code",
      "metadata": {
        "id": "HNwjrVzAMYoG"
      },
      "source": [
        ""
      ],
      "execution_count": null,
      "outputs": []
    }
  ]
}