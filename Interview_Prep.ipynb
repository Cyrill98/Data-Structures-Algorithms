{
  "nbformat": 4,
  "nbformat_minor": 0,
  "metadata": {
    "colab": {
      "name": "Interview Prep",
      "provenance": [],
      "authorship_tag": "ABX9TyOi7CthHFFrwTsluQqoKKx6",
      "include_colab_link": true
    },
    "kernelspec": {
      "name": "python3",
      "display_name": "Python 3"
    },
    "language_info": {
      "name": "python"
    }
  },
  "cells": [
    {
      "cell_type": "markdown",
      "metadata": {
        "id": "view-in-github",
        "colab_type": "text"
      },
      "source": [
        "<a href=\"https://colab.research.google.com/github/Cyrill98/Data-Structures-Algorithms/blob/main/Interview_Prep.ipynb\" target=\"_parent\"><img src=\"https://colab.research.google.com/assets/colab-badge.svg\" alt=\"Open In Colab\"/></a>"
      ]
    },
    {
      "cell_type": "markdown",
      "metadata": {
        "id": "Hpl35ho3te58"
      },
      "source": [
        "#Check odd numbers"
      ]
    },
    {
      "cell_type": "code",
      "metadata": {
        "colab": {
          "base_uri": "https://localhost:8080/"
        },
        "id": "JGWHJHHytUfI",
        "outputId": "b7d4a72c-8533-45a3-81bc-288f64609899"
      },
      "source": [
        "for i in range(10):\n",
        "  if i % 2 != 0:\n",
        "    print(i)"
      ],
      "execution_count": null,
      "outputs": [
        {
          "output_type": "stream",
          "name": "stdout",
          "text": [
            "1\n",
            "3\n",
            "5\n",
            "7\n",
            "9\n"
          ]
        }
      ]
    },
    {
      "cell_type": "markdown",
      "metadata": {
        "id": "p5_sNtzAN0GD"
      },
      "source": [
        "#Check Prime Numbers"
      ]
    },
    {
      "cell_type": "markdown",
      "metadata": {
        "id": "VOOSzhjcOfLQ"
      },
      "source": [
        "1. Using Flag variable"
      ]
    },
    {
      "cell_type": "code",
      "metadata": {
        "colab": {
          "base_uri": "https://localhost:8080/"
        },
        "id": "V8emu_KpNTiX",
        "outputId": "1c6bf84a-d85e-4c2a-d172-69d5b066cfdd"
      },
      "source": [
        "num = int(input(\"Enter number\\n\"))\n",
        "\n",
        "flag = False\n",
        "\n",
        "if num > 1:\n",
        "  for i in range(2, num):\n",
        "    if(num % i) == 0:\n",
        "      flag = True\n",
        "      break\n",
        "\n",
        "if flag:\n",
        "  print(num,\"is not a prime number\")\n",
        "else:\n",
        "  print(num,\"is a prime number\")"
      ],
      "execution_count": null,
      "outputs": [
        {
          "output_type": "stream",
          "name": "stdout",
          "text": [
            "Enter number\n",
            "34\n",
            "34 is not a prime number\n"
          ]
        }
      ]
    },
    {
      "cell_type": "markdown",
      "metadata": {
        "id": "RKbNoRC5Oibq"
      },
      "source": [
        "2. Using For...else statement"
      ]
    },
    {
      "cell_type": "code",
      "metadata": {
        "colab": {
          "base_uri": "https://localhost:8080/"
        },
        "id": "bk5wmupfOl_Q",
        "outputId": "d51f0856-f6ca-4491-b181-e39a2caefc1b"
      },
      "source": [
        "num = int(input(\"Enter number\"))\n",
        "\n",
        "if num > i:\n",
        "  for i in range(2, num):\n",
        "    if num % i == 0:\n",
        "      print(num,\"is not a prime number\")\n",
        "      print(i,\"times\", num//i,\"is\",num)\n",
        "      break\n",
        "    else:\n",
        "      print(num,\"is a prime number\")\n",
        "else:\n",
        "  print(num,\"is not a prime number\")"
      ],
      "execution_count": null,
      "outputs": [
        {
          "output_type": "stream",
          "name": "stdout",
          "text": [
            "Enter number34\n",
            "34 is not a prime number\n",
            "2 times 17 is 34\n"
          ]
        }
      ]
    },
    {
      "cell_type": "markdown",
      "metadata": {
        "id": "oD-jTo1NtiWc"
      },
      "source": [
        "#Check factorial number"
      ]
    },
    {
      "cell_type": "code",
      "metadata": {
        "colab": {
          "base_uri": "https://localhost:8080/"
        },
        "id": "kFzFTxu1tkeW",
        "outputId": "7de1eeee-a8df-4c27-c67a-e22a5eef5571"
      },
      "source": [
        "user = int(input(\"Enter number\"))\n",
        "factorial = 1\n",
        "\n",
        "if user < 0:\n",
        "  print(\"Doesnt exist\")\n",
        "elif user == 0:\n",
        "  print(\"Factorial number is 1\")\n",
        "else:\n",
        "  for i in range(1, user+1):\n",
        "    factorial = factorial*i\n",
        "  print(factorial)"
      ],
      "execution_count": null,
      "outputs": [
        {
          "output_type": "stream",
          "name": "stdout",
          "text": [
            "Enter number4\n",
            "24\n"
          ]
        }
      ]
    },
    {
      "cell_type": "markdown",
      "metadata": {
        "id": "zc9xcBIXvQkh"
      },
      "source": [
        "#Check odd/even number"
      ]
    },
    {
      "cell_type": "code",
      "metadata": {
        "colab": {
          "base_uri": "https://localhost:8080/"
        },
        "id": "8AYZTLYJu-iU",
        "outputId": "49d3fd5d-a39f-4416-dbe9-4333ea1260d5"
      },
      "source": [
        "user = int(input(\"Enter any number: \"))\n",
        "\n",
        "if user % 2 != 0:\n",
        "  print(\"That is odd number\")\n",
        "else:\n",
        "  print(\"That is even number\")"
      ],
      "execution_count": null,
      "outputs": [
        {
          "output_type": "stream",
          "name": "stdout",
          "text": [
            "Enter any number: 3\n",
            "That is odd number\n"
          ]
        }
      ]
    },
    {
      "cell_type": "code",
      "metadata": {
        "colab": {
          "base_uri": "https://localhost:8080/"
        },
        "id": "OpLuFEBBR8U6",
        "outputId": "e8d0c32a-cc0d-4bb7-e1d6-ff1bb5f21dbe"
      },
      "source": [
        "def oddtak(user1):\n",
        "  if user1 % 2 != 0:\n",
        "    print(\"Number is odd\")\n",
        "  elif user1 % 2 == 0:\n",
        "    print(\"Number is even\")\n",
        "  else:\n",
        "    print(\"Invalid number\")\n",
        "\n",
        "oddtak(int(input(\"Enter any number\")))"
      ],
      "execution_count": null,
      "outputs": [
        {
          "output_type": "stream",
          "name": "stdout",
          "text": [
            "Enter any number12\n",
            "Number is even\n"
          ]
        }
      ]
    },
    {
      "cell_type": "markdown",
      "metadata": {
        "id": "FRa6gkf9OINF"
      },
      "source": [
        "#Convert int to binary"
      ]
    },
    {
      "cell_type": "markdown",
      "metadata": {
        "id": "_9nr40WgPEvq"
      },
      "source": [
        "1. Using built-in function"
      ]
    },
    {
      "cell_type": "code",
      "metadata": {
        "colab": {
          "base_uri": "https://localhost:8080/"
        },
        "id": "ltgpmeuVOKya",
        "outputId": "5111ce99-51fc-448e-d49b-c17731574279"
      },
      "source": [
        "n = int(input(\"Enter integer number\\n\"))\n",
        "binari = bin(n)\n",
        "\n",
        "print(binari)"
      ],
      "execution_count": 6,
      "outputs": [
        {
          "output_type": "stream",
          "name": "stdout",
          "text": [
            "Enter integer number\n",
            "10\n",
            "0b1010\n"
          ]
        }
      ]
    },
    {
      "cell_type": "markdown",
      "metadata": {
        "id": "63xfscU3PIDf"
      },
      "source": [
        "2. Without built-in function<br>\n",
        "\n",
        "![image.png](data:image/png;base64,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)"
      ]
    },
    {
      "cell_type": "code",
      "metadata": {
        "colab": {
          "base_uri": "https://localhost:8080/"
        },
        "id": "JAIJZMzdPip4",
        "outputId": "8fe4cd85-2923-4df8-9390-f0e1f80dd50d"
      },
      "source": [
        "n = int(input(\"Enter integer number\\n\"))\n",
        "\n",
        "temp = format(n, \"b\")\n",
        "print(temp)"
      ],
      "execution_count": 5,
      "outputs": [
        {
          "output_type": "stream",
          "name": "stdout",
          "text": [
            "Enter integer number\n",
            "10\n",
            "1010\n"
          ]
        }
      ]
    },
    {
      "cell_type": "markdown",
      "metadata": {
        "id": "9qjsosHTOZy9"
      },
      "source": [
        ""
      ]
    },
    {
      "cell_type": "markdown",
      "metadata": {
        "id": "ye_xZriYvqZt"
      },
      "source": [
        "#Check leap year\n",
        "\n",
        "You should follow the following steps to determine whether a year is a leap year or not.\n",
        "\n",
        "\n",
        "1.   If a year is evenly divisible by 4 means having no remainder then go to next step. If it is not divisible by 4. It is not a leap year. For example: 1997 is not a leap year.\n",
        "2.   If a year is divisible by 4, but not by 100. For example: 2012, it is a leap year. If a year is divisible by both 4 and 100, go to next step.\n",
        "3.   If a year is divisible by 100, but not by 400. For example: 1900, then it is not a leap year.\n",
        "4.    If a year is divisible by both, then it is a leap year. So 2000 is a leap year.\n",
        "\n",
        "\n",
        "\n",
        "\n",
        "\n"
      ]
    },
    {
      "cell_type": "code",
      "metadata": {
        "colab": {
          "base_uri": "https://localhost:8080/"
        },
        "id": "npG64QqIvp4_",
        "outputId": "3a7b5281-92b6-4390-a6ee-85e0cff3bcad"
      },
      "source": [
        "user = int(input(\"Enter any year: \"))\n",
        "\n",
        "if (user % 400 == 0) or (user % 100 != 0) and (user % 4 == 0):\n",
        "  print(\"Leap year\")\n",
        "else:\n",
        "  print(\"Not Leap year\")"
      ],
      "execution_count": null,
      "outputs": [
        {
          "output_type": "stream",
          "name": "stdout",
          "text": [
            "Enter any year2012\n",
            "Leap year\n"
          ]
        }
      ]
    },
    {
      "cell_type": "markdown",
      "metadata": {
        "id": "PNrx9NNd0JGl"
      },
      "source": [
        "Armstrong Number"
      ]
    },
    {
      "cell_type": "code",
      "metadata": {
        "colab": {
          "base_uri": "https://localhost:8080/"
        },
        "id": "eI1TSH9E0Kp9",
        "outputId": "6b0044da-30c6-454c-89ad-055bd3defde8"
      },
      "source": [
        "n = int(input(\"Insert number to be converted into Armstrong number\"))\n",
        "#Initialize sum\n",
        "s=0\n",
        "t = n\n",
        "\n",
        "while t > 0:\n",
        "  # take last digit\n",
        "  x = t % 10\n",
        "  #Perform Armstrong calculation\n",
        "  s += x **3\n",
        "  t //= 10\n",
        "\n",
        "if n==s:\n",
        "  print('Armstrong',n)\n",
        "else:\n",
        "  print(\"Not armstrong\",n)\n",
        "\n"
      ],
      "execution_count": null,
      "outputs": [
        {
          "output_type": "stream",
          "name": "stdout",
          "text": [
            "Insert number to be converted into Armstrong number371\n",
            "Armstrong 371\n"
          ]
        }
      ]
    },
    {
      "cell_type": "code",
      "metadata": {
        "colab": {
          "base_uri": "https://localhost:8080/"
        },
        "id": "-UekTUwA1VSU",
        "outputId": "90c4fdfe-7ded-48df-d318-f865a667e8a0"
      },
      "source": [
        "x = 23\n",
        "# Notice that % 10 always return digit last\n",
        "y = x % 10\n",
        "print(y)"
      ],
      "execution_count": null,
      "outputs": [
        {
          "output_type": "stream",
          "name": "stdout",
          "text": [
            "3\n"
          ]
        }
      ]
    },
    {
      "cell_type": "code",
      "metadata": {
        "colab": {
          "base_uri": "https://localhost:8080/"
        },
        "id": "4XqYhmP_3GPr",
        "outputId": "57e352d1-7be7-49aa-c086-d68dbd7835fe"
      },
      "source": [
        "x = 10\n",
        "# //operator berlawanan dengan %operator\n",
        "x//=3\n",
        "print(x)"
      ],
      "execution_count": null,
      "outputs": [
        {
          "output_type": "stream",
          "name": "stdout",
          "text": [
            "3\n"
          ]
        }
      ]
    },
    {
      "cell_type": "markdown",
      "metadata": {
        "id": "qT716yTs2_YZ"
      },
      "source": [
        "#Fibonacci Sequence"
      ]
    },
    {
      "cell_type": "code",
      "metadata": {
        "colab": {
          "base_uri": "https://localhost:8080/"
        },
        "id": "-rU-Tvrh3BMJ",
        "outputId": "228e628e-057c-493f-9f94-3ea37495d32b"
      },
      "source": [
        "n = int(input(\"Enter your magic number: \"))\n",
        "counter = 0\n",
        "no1 = 0\n",
        "no2 = 1\n",
        "\n",
        "if n < 0:\n",
        "  print(\"Plase enter positive integer\")\n",
        "elif n == 0:\n",
        "  print(\"The fibonacci sequence must be greater than\", n)\n",
        "else:\n",
        "  print(\"The fib sequence for\", n, \"is: \")\n",
        "  while counter < n:\n",
        "    print(no1)\n",
        "    nth = no1 + no2\n",
        "    no1 = no2\n",
        "    no2 = nth\n",
        "    counter += 1"
      ],
      "execution_count": null,
      "outputs": [
        {
          "output_type": "stream",
          "name": "stdout",
          "text": [
            "Enter your magic number: 13\n",
            "The fib sequence for 13 is: \n",
            "0\n",
            "1\n",
            "1\n",
            "2\n",
            "3\n",
            "5\n",
            "8\n",
            "13\n",
            "21\n",
            "34\n",
            "55\n",
            "89\n",
            "144\n"
          ]
        }
      ]
    },
    {
      "cell_type": "markdown",
      "metadata": {
        "id": "FRNChGH47Hp1"
      },
      "source": [
        "#Multiplication Table"
      ]
    },
    {
      "cell_type": "code",
      "metadata": {
        "colab": {
          "base_uri": "https://localhost:8080/"
        },
        "id": "R70aqFSQDVms",
        "outputId": "82b4637c-53ed-41b9-c31c-d00115659150"
      },
      "source": [
        "user = int(input(\"Enter multiplication table: \"))\n",
        "\n",
        "for i in range (13):\n",
        "  ans = user * i\n",
        "  print(user, 'X', i, '=', ans)\n"
      ],
      "execution_count": null,
      "outputs": [
        {
          "output_type": "stream",
          "name": "stdout",
          "text": [
            "Enter multiplication table: 3\n",
            "3 X 0 = 0\n",
            "3 X 1 = 3\n",
            "3 X 2 = 6\n",
            "3 X 3 = 9\n",
            "3 X 4 = 12\n",
            "3 X 5 = 15\n",
            "3 X 6 = 18\n",
            "3 X 7 = 21\n",
            "3 X 8 = 24\n",
            "3 X 9 = 27\n",
            "3 X 10 = 30\n",
            "3 X 11 = 33\n",
            "3 X 12 = 36\n"
          ]
        }
      ]
    },
    {
      "cell_type": "code",
      "metadata": {
        "colab": {
          "base_uri": "https://localhost:8080/"
        },
        "id": "Eu5cgbqa7Jae",
        "outputId": "5657fef3-9b2c-49ed-c82c-1450fab1c255"
      },
      "source": [
        "user = int(input(\"Enter your multiplication  table: \"))\n",
        "\n",
        "for i in range(1, 13):\n",
        "  print(user, 'X', i, '=', user*i)"
      ],
      "execution_count": null,
      "outputs": [
        {
          "output_type": "stream",
          "name": "stdout",
          "text": [
            "Enter your weapon: 2\n",
            "2 X 1 = 2\n",
            "2 X 2 = 4\n",
            "2 X 3 = 6\n",
            "2 X 4 = 8\n",
            "2 X 5 = 10\n",
            "2 X 6 = 12\n",
            "2 X 7 = 14\n",
            "2 X 8 = 16\n",
            "2 X 9 = 18\n",
            "2 X 10 = 20\n",
            "2 X 11 = 22\n",
            "2 X 12 = 24\n"
          ]
        }
      ]
    },
    {
      "cell_type": "markdown",
      "metadata": {
        "id": "EuTdkXPHWxgd"
      },
      "source": [
        "# Check Palindrome Number"
      ]
    },
    {
      "cell_type": "code",
      "metadata": {
        "colab": {
          "base_uri": "https://localhost:8080/"
        },
        "id": "IU0hoA-JWzhN",
        "outputId": "534651d3-e1c5-4ca8-a54d-a19f77777977"
      },
      "source": [
        "n=int(input(\"Enter number:\"))\n",
        "temp=n\n",
        "rev=0\n",
        "while(n>0):\n",
        "  dig=n%10\n",
        "  rev=rev*10+dig\n",
        "  n=n//10\n",
        "if(temp==rev):\n",
        "  print(\"The number is a palindrome!\")\n",
        "else:\n",
        "  print(\"The number isn't a palindrome!\")"
      ],
      "execution_count": null,
      "outputs": [
        {
          "output_type": "stream",
          "name": "stdout",
          "text": [
            "Enter number:12\n",
            "The number isn't a palindrome!\n"
          ]
        }
      ]
    },
    {
      "cell_type": "markdown",
      "metadata": {
        "id": "e8ECmQCyXAP6"
      },
      "source": [
        "# Count number of digit in number"
      ]
    },
    {
      "cell_type": "code",
      "metadata": {
        "colab": {
          "base_uri": "https://localhost:8080/"
        },
        "id": "JgZWf_2EXC1X",
        "outputId": "1a5d2e23-1d7c-49d9-d935-d16ccae751cb"
      },
      "source": [
        "n = int(input(\"Enter any large number\"))\n",
        "\n",
        "count = 0\n",
        "while n > 0:\n",
        "  count+=1\n",
        "  n = n//10\n",
        "print(count)\n"
      ],
      "execution_count": null,
      "outputs": [
        {
          "output_type": "stream",
          "name": "stdout",
          "text": [
            "Enter any large number132432\n",
            "6\n"
          ]
        }
      ]
    },
    {
      "cell_type": "code",
      "metadata": {
        "colab": {
          "base_uri": "https://localhost:8080/"
        },
        "id": "vZHJMIh5PrZk",
        "outputId": "06f92760-ad65-4b89-c8e7-134cbedb75b6"
      },
      "source": [
        "x = y = 5, 10\n",
        "# print(y) output= (5, 10) sama je dengan x\n",
        "num = x == y\n",
        "print(num)"
      ],
      "execution_count": null,
      "outputs": [
        {
          "output_type": "stream",
          "name": "stdout",
          "text": [
            "True\n"
          ]
        }
      ]
    },
    {
      "cell_type": "markdown",
      "metadata": {
        "id": "zrIzvXaa6lxt"
      },
      "source": [
        "#Find the Second Largest Number in a List"
      ]
    },
    {
      "cell_type": "code",
      "metadata": {
        "colab": {
          "base_uri": "https://localhost:8080/"
        },
        "id": "KjmHPIpf6mgi",
        "outputId": "7c722858-549b-4536-b26e-67fcde3df71b"
      },
      "source": [
        "a = int(input(\"Enter list of number\"))\n",
        "initial = []\n",
        "\n",
        "for i in range(1, a+1):\n",
        "  b = int(input(\"Enter number\"))\n",
        "  initial.append(b)\n",
        "  initial.sort()\n",
        "\n",
        "print(\"Your list of number is: \",initial)\n",
        "print(\"The second largest of number in your list is :\", initial[-2])"
      ],
      "execution_count": null,
      "outputs": [
        {
          "output_type": "stream",
          "name": "stdout",
          "text": [
            "Enter list of number4\n",
            "Enter number54\n",
            "Enter number65\n",
            "Enter number23\n",
            "Enter number756\n",
            "Your list of number is:  [23, 54, 65, 756]\n",
            "The second largest of number in your list is : 65\n"
          ]
        }
      ]
    },
    {
      "cell_type": "markdown",
      "metadata": {
        "id": "-kNFDXQz-FJN"
      },
      "source": [
        "#Find Average Number"
      ]
    },
    {
      "cell_type": "code",
      "metadata": {
        "colab": {
          "base_uri": "https://localhost:8080/",
          "height": 280
        },
        "id": "mRZImtgg-HWF",
        "outputId": "57070c07-7de5-437e-9ec9-25b4e3ac7fda"
      },
      "source": [
        "a = int(input(\"Enter the number of elements to be inserted\"))\n",
        "c = []\n",
        "for i in range(0, a):\n",
        "  b = int(input(\"Enter the element\"))\n",
        "  result = sum(b)/a\n",
        "  # c.append(b)\n",
        "  # result = sum(c)/a\n",
        "\n",
        "print(result)"
      ],
      "execution_count": null,
      "outputs": [
        {
          "name": "stdout",
          "output_type": "stream",
          "text": [
            "Enter the number of elements to be inserted32\n",
            "Enter the element2\n"
          ]
        },
        {
          "output_type": "error",
          "ename": "TypeError",
          "evalue": "ignored",
          "traceback": [
            "\u001b[0;31m---------------------------------------------------------------------------\u001b[0m",
            "\u001b[0;31mTypeError\u001b[0m                                 Traceback (most recent call last)",
            "\u001b[0;32m<ipython-input-49-eadae7a8ec94>\u001b[0m in \u001b[0;36m<module>\u001b[0;34m()\u001b[0m\n\u001b[1;32m      3\u001b[0m \u001b[0;32mfor\u001b[0m \u001b[0mi\u001b[0m \u001b[0;32min\u001b[0m \u001b[0mrange\u001b[0m\u001b[0;34m(\u001b[0m\u001b[0;36m0\u001b[0m\u001b[0;34m,\u001b[0m \u001b[0ma\u001b[0m\u001b[0;34m)\u001b[0m\u001b[0;34m:\u001b[0m\u001b[0;34m\u001b[0m\u001b[0;34m\u001b[0m\u001b[0m\n\u001b[1;32m      4\u001b[0m   \u001b[0mb\u001b[0m \u001b[0;34m=\u001b[0m \u001b[0mint\u001b[0m\u001b[0;34m(\u001b[0m\u001b[0minput\u001b[0m\u001b[0;34m(\u001b[0m\u001b[0;34m\"Enter the element\"\u001b[0m\u001b[0;34m)\u001b[0m\u001b[0;34m)\u001b[0m\u001b[0;34m\u001b[0m\u001b[0;34m\u001b[0m\u001b[0m\n\u001b[0;32m----> 5\u001b[0;31m   \u001b[0mresult\u001b[0m \u001b[0;34m=\u001b[0m \u001b[0msum\u001b[0m\u001b[0;34m(\u001b[0m\u001b[0mb\u001b[0m\u001b[0;34m)\u001b[0m\u001b[0;34m/\u001b[0m\u001b[0ma\u001b[0m\u001b[0;34m\u001b[0m\u001b[0;34m\u001b[0m\u001b[0m\n\u001b[0m\u001b[1;32m      6\u001b[0m   \u001b[0;31m# c.append(b)\u001b[0m\u001b[0;34m\u001b[0m\u001b[0;34m\u001b[0m\u001b[0;34m\u001b[0m\u001b[0m\n\u001b[1;32m      7\u001b[0m   \u001b[0;31m# result = sum(c)/a\u001b[0m\u001b[0;34m\u001b[0m\u001b[0;34m\u001b[0m\u001b[0;34m\u001b[0m\u001b[0m\n",
            "\u001b[0;31mTypeError\u001b[0m: 'int' object is not callable"
          ]
        }
      ]
    },
    {
      "cell_type": "markdown",
      "metadata": {
        "id": "bV4q0Wi9_vsP"
      },
      "source": [
        "# Count number of vowels in a string"
      ]
    },
    {
      "cell_type": "code",
      "metadata": {
        "colab": {
          "base_uri": "https://localhost:8080/"
        },
        "id": "Wigfsduu_zTu",
        "outputId": "112b84f7-d1b0-4f77-9154-55a54e9ff752"
      },
      "source": [
        "n = (input(\"Enter text\\n\"))\n",
        "vowel_counter = 0\n",
        "\n",
        "for i in n:\n",
        "  if (i=='a' or i=='e' or i == 'o' or i =='u'):\n",
        "    vowel_counter += 1\n",
        "\n",
        "print(\"NUmber of vowels in the text are\", vowel_counter)\n"
      ],
      "execution_count": null,
      "outputs": [
        {
          "output_type": "stream",
          "name": "stdout",
          "text": [
            "Enter text\n",
            "bvfbcjyuumooaaafseeatea\n",
            "NUmber of vowels in the text are 12\n"
          ]
        }
      ]
    },
    {
      "cell_type": "markdown",
      "metadata": {
        "id": "_K27oSzLTfld"
      },
      "source": [
        "# Convert list into string"
      ]
    },
    {
      "cell_type": "code",
      "metadata": {
        "colab": {
          "base_uri": "https://localhost:8080/"
        },
        "id": "OzxXJ9JbThm4",
        "outputId": "66e66ef0-2799-4872-a22f-c8f2bbc58359"
      },
      "source": [
        "list1 = ['sunday','monday']\n",
        "\n",
        "combined = '-'.join(list1)\n",
        "print(combined)"
      ],
      "execution_count": null,
      "outputs": [
        {
          "output_type": "stream",
          "name": "stdout",
          "text": [
            "sunday-monday\n"
          ]
        }
      ]
    },
    {
      "cell_type": "markdown",
      "metadata": {
        "id": "bq05Lfnk-bes"
      },
      "source": [
        "What is enumerate in Python?\n",
        "\n"
      ]
    },
    {
      "cell_type": "code",
      "metadata": {
        "id": "JWJb5_pU-s3a"
      },
      "source": [
        ""
      ],
      "execution_count": null,
      "outputs": []
    },
    {
      "cell_type": "markdown",
      "metadata": {
        "id": "7I4rFLNJ-p7A"
      },
      "source": [
        "Reverse a number in Python"
      ]
    },
    {
      "cell_type": "code",
      "metadata": {
        "colab": {
          "base_uri": "https://localhost:8080/"
        },
        "id": "vRNFyyXM-tld",
        "outputId": "8396012f-e28b-4b14-b80e-ea23f9c67e12"
      },
      "source": [
        "n = int(input(\"Enter number\"))\n",
        "\n",
        "reversal = 0\n",
        "\n",
        "while n>0:\n",
        "  digit = n%10\n",
        "  reversal = reversal * 10 + digit\n",
        "  n = n//10\n",
        "print(\"The reverse number is :\", reversal)"
      ],
      "execution_count": null,
      "outputs": [
        {
          "output_type": "stream",
          "name": "stdout",
          "text": [
            "Enter number643346\n",
            "The reverse number is : 643346\n"
          ]
        }
      ]
    },
    {
      "cell_type": "markdown",
      "metadata": {
        "id": "OQcF1mRQT5Wt"
      },
      "source": [
        "# Convert list into tuple"
      ]
    },
    {
      "cell_type": "code",
      "metadata": {
        "id": "ve94UQlvT6-5"
      },
      "source": [
        ""
      ],
      "execution_count": null,
      "outputs": []
    },
    {
      "cell_type": "markdown",
      "metadata": {
        "id": "p_pw0J7WUsqc"
      },
      "source": [
        "Concatenate Strings"
      ]
    },
    {
      "cell_type": "code",
      "metadata": {
        "id": "eBeznLSiUuib"
      },
      "source": [
        ""
      ],
      "execution_count": null,
      "outputs": []
    },
    {
      "cell_type": "markdown",
      "metadata": {
        "id": "8Fvw_TeQUbeJ"
      },
      "source": [
        "Others:"
      ]
    },
    {
      "cell_type": "code",
      "metadata": {
        "colab": {
          "base_uri": "https://localhost:8080/"
        },
        "id": "U9E52ibiUc3T",
        "outputId": "093f8ef7-4ad8-47d4-e8c8-efa10a15afa6"
      },
      "source": [
        "name1 = ['Adam','Idris','Noah']\n",
        "print(name1[-1][-1])"
      ],
      "execution_count": null,
      "outputs": [
        {
          "output_type": "stream",
          "name": "stdout",
          "text": [
            "h\n"
          ]
        }
      ]
    },
    {
      "cell_type": "markdown",
      "metadata": {
        "id": "bcFsxIwMAlWQ"
      },
      "source": [
        "# User input as list"
      ]
    },
    {
      "cell_type": "markdown",
      "metadata": {
        "id": "ZdPFsWE0BkVF"
      },
      "source": [
        "1. Using try block"
      ]
    },
    {
      "cell_type": "code",
      "metadata": {
        "id": "6XpjmpN4AnFD"
      },
      "source": [
        "try:\n",
        "  list1 = []\n",
        "  \n",
        "  while True:\n",
        "    list1.append(int(input(\"Enter list of number: \\n\")))\n",
        "except:\n",
        "  print(list1)"
      ],
      "execution_count": null,
      "outputs": []
    },
    {
      "cell_type": "markdown",
      "metadata": {
        "id": "Q2plApJXCctO"
      },
      "source": [
        "2. Using for loop"
      ]
    },
    {
      "cell_type": "code",
      "metadata": {
        "colab": {
          "base_uri": "https://localhost:8080/"
        },
        "id": "JEOjniI3BnV4",
        "outputId": "54e2ebe7-bc3a-4028-b493-e836a0226c17"
      },
      "source": [
        "list1 = []\n",
        "user = int(input(\"Enter list of number: \"))\n",
        "for i in range(0, user):\n",
        "  print(\"Enter the number\")\n",
        "  elem = int(input())\n",
        "\n",
        "  list1.append(elem)\n",
        "\n",
        "print(list1)"
      ],
      "execution_count": null,
      "outputs": [
        {
          "output_type": "stream",
          "name": "stdout",
          "text": [
            "Enter list of number: 4\n",
            "Enter the number\n",
            "2\n",
            "Enter the number\n",
            "4\n",
            "Enter the number\n",
            "5\n",
            "Enter the number\n",
            "6\n",
            "[2, 4, 5, 6]\n"
          ]
        }
      ]
    },
    {
      "cell_type": "markdown",
      "metadata": {
        "id": "jtu2MxjmQYmK"
      },
      "source": [
        "#Switch statements (Python has no switch case statements; only if-else statement)\n",
        "\n",
        "\n",
        "We will use C++\n",
        "\n",
        "Link to run C++ on Google Colab:\n",
        "https://www.geeksforgeeks.org/how-to-run-cuda-c-c-on-jupyter-notebook-in-google-colaboratory/"
      ]
    },
    {
      "cell_type": "code",
      "metadata": {
        "id": "jEs1BVBuQbnX"
      },
      "source": [
        "#include \n",
        "using namespace std;\n",
        " \n",
        "int main () {\n",
        "  \n",
        "  int marks = '10';\n",
        "\n",
        "  switch(grade) {\n",
        "    case '5' :\n",
        "      cout << \"You scored 5 marks\" << endl; \n",
        "         break;\n",
        "    case '6' :\n",
        "        cout << \"You scored 6 marks\" << endl;\n",
        "     case '7' :\n",
        "        cout << \"You scored 7 marks\" << endl;\n",
        "         break;\n",
        "      case 'D' :\n",
        "        cout << \"You scored 10 marks\" << endl;\n",
        "         break;\n",
        "      default :\n",
        "        cout << \"You scored 0 marks\" << endl;\n",
        "   }\n",
        "  cout << \"Your marks is \" << marks << endl;\n",
        " \n",
        "   return 0;\n",
        "}"
      ],
      "execution_count": null,
      "outputs": []
    },
    {
      "cell_type": "markdown",
      "metadata": {
        "id": "vxpx3LGbVq39"
      },
      "source": [
        "However, there are alternative other than Switch Case in Python\n",
        "\n",
        "1. If-Else Statement\n",
        "2. Dictionary Mapping\n",
        "3. Using classes"
      ]
    },
    {
      "cell_type": "markdown",
      "metadata": {
        "id": "MpsqTq1_WAgI"
      },
      "source": [
        "Method 1) If-Else Statement"
      ]
    },
    {
      "cell_type": "code",
      "metadata": {
        "colab": {
          "base_uri": "https://localhost:8080/"
        },
        "id": "xAy-3coIWEOP",
        "outputId": "6688add4-a727-420b-c249-9b6b96cb0771"
      },
      "source": [
        "fruit = input('Choose Mango, Banana, Durian\\n')\n",
        "\n",
        "if fruit == 'Mango':\n",
        "  print(\"You choose Mango\")\n",
        "elif fruit == 'Banana':\n",
        "  print('You choose banana')\n",
        "elif fruit == 'Durian':\n",
        "  print(\"You choose Durian\")\n",
        "else:\n",
        "  print('Choose among those 3 only')"
      ],
      "execution_count": null,
      "outputs": [
        {
          "output_type": "stream",
          "name": "stdout",
          "text": [
            "Choose Mango, Banana, Durian\n",
            "Mango\n",
            "You choose Mango\n"
          ]
        }
      ]
    },
    {
      "cell_type": "markdown",
      "metadata": {
        "id": "eH2ylv0wV7zX"
      },
      "source": [
        "Method 2) Dictionary Mapping"
      ]
    },
    {
      "cell_type": "code",
      "metadata": {
        "colab": {
          "base_uri": "https://localhost:8080/"
        },
        "id": "BbvMp6-pVoDx",
        "outputId": "5a5b6079-c163-452d-fd70-f364d6656b72"
      },
      "source": [
        "def monday():\n",
        "    return \"monday\"\n",
        "def tuesday():\n",
        "    return \"tuesday\"\n",
        "def wednesday():\n",
        "    return \"wednesday\"\n",
        "def thursday():\n",
        "    return \"thursday\"\n",
        "def friday():\n",
        "    return \"friday\"\n",
        "def saturday():\n",
        "    return \"saturday\"\n",
        "def sunday():\n",
        "    return \"sunday\"\n",
        "def default():\n",
        "    return \"Incorrect day\"\n",
        "\n",
        "switcher = {\n",
        "    1: monday,\n",
        "    2: tuesday,\n",
        "    3: wednesday,\n",
        "    4: thursday,\n",
        "    5: friday,\n",
        "    6: saturday,\n",
        "    7: sunday\n",
        "    }\n",
        "\n",
        "def switch(dayOfWeek):\n",
        "    return switcher.get(dayOfWeek, default)()\n",
        "\n",
        "print(switch(3))\n",
        "print(switch(5))"
      ],
      "execution_count": null,
      "outputs": [
        {
          "output_type": "stream",
          "name": "stdout",
          "text": [
            "wednesday\n",
            "friday\n"
          ]
        }
      ]
    },
    {
      "cell_type": "markdown",
      "metadata": {
        "id": "x14ZbxoSWHJU"
      },
      "source": [
        "Method 3) Using Classes"
      ]
    },
    {
      "cell_type": "code",
      "metadata": {
        "colab": {
          "base_uri": "https://localhost:8080/"
        },
        "id": "R9XDfUM1WJN4",
        "outputId": "9d8786ba-49bd-4497-87f1-f91650937ade"
      },
      "source": [
        "class PythonSwitch:\n",
        "    def day(self, dayOfWeek):\n",
        "        default = \"Incorrect day\"\n",
        "        return getattr(self, 'case_' + str(dayOfWeek), lambda: default)()\n",
        "\n",
        "    def case_1(self):\n",
        "        return \"monday\"\n",
        "\n",
        "    def case_2(self):\n",
        "        return \"tuesday\"\n",
        "\n",
        "    def case_3(self):\n",
        "        return \"wednesday\"\n",
        "\n",
        "    def case_4(self):\n",
        "       return \"thursday\"\n",
        "\n",
        "    def case_5(self):\n",
        "        return \"friday\"\n",
        "\n",
        "    def case_7(self):\n",
        "        return \"saturday\"\n",
        "    \n",
        "    def case_6(self):\n",
        "        return \"sunday\"\n",
        "   \n",
        "my_switch = PythonSwitch()\n",
        "\n",
        "print (my_switch.day(1))\n",
        "\n",
        "print (my_switch.day(3))"
      ],
      "execution_count": null,
      "outputs": [
        {
          "output_type": "stream",
          "name": "stdout",
          "text": [
            "monday\n",
            "wednesday\n"
          ]
        }
      ]
    },
    {
      "cell_type": "code",
      "metadata": {
        "colab": {
          "base_uri": "https://localhost:8080/"
        },
        "id": "YjmHnH9QGMy6",
        "outputId": "04ee139b-8dc8-45a3-d4e3-e9183fee80a5"
      },
      "source": [
        "# A Sample class with init method\n",
        "class Person:\n",
        "   \n",
        "    # init method or constructor \n",
        "    def __init__(self, name, age):\n",
        "        self.name = name\n",
        "        self.age = age\n",
        "   \n",
        "    # Sample Method \n",
        "    def say_hi(self):\n",
        "        print('Hello, my name is', self.name,'and i am',self.age,'years old')\n",
        "   \n",
        "p = Person('Cyrill','20')\n",
        "p.say_hi()"
      ],
      "execution_count": null,
      "outputs": [
        {
          "output_type": "stream",
          "name": "stdout",
          "text": [
            "Hello, my name is Cyrill and i am 20 years old\n"
          ]
        }
      ]
    },
    {
      "cell_type": "markdown",
      "metadata": {
        "id": "h2aHVBaWBn6x"
      },
      "source": [
        "#What is Huffman Coding Algorithms?\n",
        "\n",
        "\n",
        "\n",
        "---\n",
        "\n",
        "\n",
        "\n",
        "Huffman coding is a lossless data compression algorithm.There are mainly two parts. First one to create a Huffman tree, and another one to traverse the tree to find codes.\n",
        "\n",
        "For an example, consider some strings “YYYZXXYYX”, the frequency of character Y is larger than X and the character Z has the least frequency. So the length of the code for Y is smaller than X, and code for X will be smaller than Z.\n",
        "\n",
        "\n",
        "Applications of Huffman Coding:\n",
        "1.They are used for transmitting fax and text.\n",
        "2.They are used by conventional compression formats like PKZIP, GZIP, etc."
      ]
    },
    {
      "cell_type": "markdown",
      "metadata": {
        "id": "kIDORU1jecD_"
      },
      "source": [
        "#Number of Inversions\n",
        "\n",
        "Inversion Count for an array indicates – how far (or close) the array is from being sorted. If array is already sorted then inversion count is 0. "
      ]
    },
    {
      "cell_type": "code",
      "metadata": {
        "id": "prdMDe9LgJJC",
        "colab": {
          "base_uri": "https://localhost:8080/"
        },
        "outputId": "c40d7dde-4ce1-436f-8558-6c40f56d198e"
      },
      "source": [
        "def getInvCount(arr, n):\n",
        "  \n",
        "    inv_count = 0\n",
        "    for i in range(n):\n",
        "        for j in range(i + 1, n):\n",
        "            if (arr[i] > arr[j]):\n",
        "                inv_count += 1\n",
        "  \n",
        "    return inv_count\n",
        "  \n",
        "# Driver Code\n",
        "arr = [1, 20, 6, 4, 5]\n",
        "n = len(arr)\n",
        "print(\"Number of inversions are\",\n",
        "              getInvCount(arr, n))"
      ],
      "execution_count": null,
      "outputs": [
        {
          "output_type": "stream",
          "name": "stdout",
          "text": [
            "Number of inversions are 5\n"
          ]
        }
      ]
    },
    {
      "cell_type": "markdown",
      "metadata": {
        "id": "SnhtPrYGeo-j"
      },
      "source": [
        "#Prime Sieving\n",
        "\n",
        "\n",
        "Given a number n, print all primes smaller than or equal to n. It is also given that n is a small number. \n",
        "For example, if n is 10, the output should be “2, 3, 5, 7”. If n is 20, the output should be “2, 3, 5, 7, 11, 13, 17, 19”."
      ]
    },
    {
      "cell_type": "code",
      "metadata": {
        "id": "bujXUmD_gJne",
        "colab": {
          "base_uri": "https://localhost:8080/"
        },
        "outputId": "aede9548-12c8-410f-ab8c-7d3437a11a9e"
      },
      "source": [
        "def SteveOfErostetics(m):\n",
        "  prime = [True for i in range (n + 1)]\n",
        "  p = 2\n",
        "  while (p * p <= n):\n",
        "    if prime[p] == True:\n",
        "      for i in range(p ** 2, n + 1, p):\n",
        "        prime[i] = False\n",
        "    p+=1\n",
        "  prime[0] = False\n",
        "  prime[1] = False\n",
        "\n",
        "  for p in range(n + 1):\n",
        "    if prime[p]:\n",
        "      print (p)\n",
        "\n",
        "if __name__=='__main__':\n",
        "  n = int(input(\"Enter number\"))\n",
        "  print(\"than or equal to \", n) \n",
        "  SteveOfErostetics(n)\n",
        "\n"
      ],
      "execution_count": null,
      "outputs": [
        {
          "output_type": "stream",
          "name": "stdout",
          "text": [
            "Enter number40\n",
            "than or equal to  40\n",
            "2\n",
            "3\n",
            "5\n",
            "7\n",
            "11\n",
            "13\n",
            "17\n",
            "19\n",
            "23\n",
            "29\n",
            "31\n",
            "37\n"
          ]
        }
      ]
    }
  ]
}