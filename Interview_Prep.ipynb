{
  "nbformat": 4,
  "nbformat_minor": 0,
  "metadata": {
    "colab": {
      "name": "Interview Prep",
      "provenance": [],
      "authorship_tag": "ABX9TyPl2NRWaj3yaRF66nmUgKwR",
      "include_colab_link": true
    },
    "kernelspec": {
      "name": "python3",
      "display_name": "Python 3"
    },
    "language_info": {
      "name": "python"
    }
  },
  "cells": [
    {
      "cell_type": "markdown",
      "metadata": {
        "id": "view-in-github",
        "colab_type": "text"
      },
      "source": [
        "<a href=\"https://colab.research.google.com/github/Cyrill98/Data-Structures-Algorithms/blob/main/Interview_Prep.ipynb\" target=\"_parent\"><img src=\"https://colab.research.google.com/assets/colab-badge.svg\" alt=\"Open In Colab\"/></a>"
      ]
    },
    {
      "cell_type": "markdown",
      "metadata": {
        "id": "Hpl35ho3te58"
      },
      "source": [
        "#Check odd numbers"
      ]
    },
    {
      "cell_type": "code",
      "metadata": {
        "colab": {
          "base_uri": "https://localhost:8080/"
        },
        "id": "JGWHJHHytUfI",
        "outputId": "b7d4a72c-8533-45a3-81bc-288f64609899"
      },
      "source": [
        "for i in range(10):\n",
        "  if i % 2 != 0:\n",
        "    print(i)"
      ],
      "execution_count": null,
      "outputs": [
        {
          "output_type": "stream",
          "name": "stdout",
          "text": [
            "1\n",
            "3\n",
            "5\n",
            "7\n",
            "9\n"
          ]
        }
      ]
    },
    {
      "cell_type": "markdown",
      "metadata": {
        "id": "oD-jTo1NtiWc"
      },
      "source": [
        "#Check factorial number"
      ]
    },
    {
      "cell_type": "code",
      "metadata": {
        "colab": {
          "base_uri": "https://localhost:8080/"
        },
        "id": "kFzFTxu1tkeW",
        "outputId": "7de1eeee-a8df-4c27-c67a-e22a5eef5571"
      },
      "source": [
        "user = int(input(\"Enter number\"))\n",
        "factorial = 1\n",
        "\n",
        "if user < 0:\n",
        "  print(\"Doesnt exist\")\n",
        "elif user == 0:\n",
        "  print(\"Factorial number is 1\")\n",
        "else:\n",
        "  for i in range(1, user+1):\n",
        "    factorial = factorial*i\n",
        "  print(factorial)"
      ],
      "execution_count": null,
      "outputs": [
        {
          "output_type": "stream",
          "name": "stdout",
          "text": [
            "Enter number4\n",
            "24\n"
          ]
        }
      ]
    },
    {
      "cell_type": "markdown",
      "metadata": {
        "id": "zc9xcBIXvQkh"
      },
      "source": [
        "#Check odd/even number"
      ]
    },
    {
      "cell_type": "code",
      "metadata": {
        "colab": {
          "base_uri": "https://localhost:8080/"
        },
        "id": "8AYZTLYJu-iU",
        "outputId": "49d3fd5d-a39f-4416-dbe9-4333ea1260d5"
      },
      "source": [
        "user = int(input(\"Enter any number: \"))\n",
        "\n",
        "if user % 2 != 0:\n",
        "  print(\"That is odd number\")\n",
        "else:\n",
        "  print(\"That is even number\")"
      ],
      "execution_count": null,
      "outputs": [
        {
          "output_type": "stream",
          "name": "stdout",
          "text": [
            "Enter any number: 3\n",
            "That is odd number\n"
          ]
        }
      ]
    },
    {
      "cell_type": "code",
      "metadata": {
        "colab": {
          "base_uri": "https://localhost:8080/"
        },
        "id": "OpLuFEBBR8U6",
        "outputId": "e8d0c32a-cc0d-4bb7-e1d6-ff1bb5f21dbe"
      },
      "source": [
        "def oddtak(user1):\n",
        "  if user1 % 2 != 0:\n",
        "    print(\"Number is odd\")\n",
        "  elif user1 % 2 == 0:\n",
        "    print(\"Number is even\")\n",
        "  else:\n",
        "    print(\"Invalid number\")\n",
        "\n",
        "oddtak(int(input(\"Enter any number\")))"
      ],
      "execution_count": 2,
      "outputs": [
        {
          "output_type": "stream",
          "name": "stdout",
          "text": [
            "Enter any number12\n",
            "Number is even\n"
          ]
        }
      ]
    },
    {
      "cell_type": "markdown",
      "metadata": {
        "id": "ye_xZriYvqZt"
      },
      "source": [
        "#Check leap year\n",
        "\n",
        "You should follow the following steps to determine whether a year is a leap year or not.\n",
        "\n",
        "\n",
        "1.   If a year is evenly divisible by 4 means having no remainder then go to next step. If it is not divisible by 4. It is not a leap year. For example: 1997 is not a leap year.\n",
        "2.   If a year is divisible by 4, but not by 100. For example: 2012, it is a leap year. If a year is divisible by both 4 and 100, go to next step.\n",
        "3.   If a year is divisible by 100, but not by 400. For example: 1900, then it is not a leap year.\n",
        "4.    If a year is divisible by both, then it is a leap year. So 2000 is a leap year.\n",
        "\n",
        "\n",
        "\n",
        "\n",
        "\n"
      ]
    },
    {
      "cell_type": "code",
      "metadata": {
        "colab": {
          "base_uri": "https://localhost:8080/"
        },
        "id": "npG64QqIvp4_",
        "outputId": "3a7b5281-92b6-4390-a6ee-85e0cff3bcad"
      },
      "source": [
        "user = int(input(\"Enter any year: \"))\n",
        "\n",
        "if (user % 400 == 0) or (user % 100 != 0) and (user % 4 == 0):\n",
        "  print(\"Leap year\")\n",
        "else:\n",
        "  print(\"Not Leap year\")"
      ],
      "execution_count": null,
      "outputs": [
        {
          "output_type": "stream",
          "name": "stdout",
          "text": [
            "Enter any year2012\n",
            "Leap year\n"
          ]
        }
      ]
    },
    {
      "cell_type": "markdown",
      "metadata": {
        "id": "qT716yTs2_YZ"
      },
      "source": [
        "#Fibonacci Sequence"
      ]
    },
    {
      "cell_type": "code",
      "metadata": {
        "colab": {
          "base_uri": "https://localhost:8080/"
        },
        "id": "-rU-Tvrh3BMJ",
        "outputId": "228e628e-057c-493f-9f94-3ea37495d32b"
      },
      "source": [
        "n = int(input(\"Enter your magic number: \"))\n",
        "counter = 0\n",
        "no1 = 0\n",
        "no2 = 1\n",
        "\n",
        "if n < 0:\n",
        "  print(\"Plase enter positive integer\")\n",
        "elif n == 0:\n",
        "  print(\"The fibonacci sequence must be greater than\", n)\n",
        "else:\n",
        "  print(\"The fib sequence for\", n, \"is: \")\n",
        "  while counter < n:\n",
        "    print(no1)\n",
        "    nth = no1 + no2\n",
        "    no1 = no2\n",
        "    no2 = nth\n",
        "    counter += 1"
      ],
      "execution_count": null,
      "outputs": [
        {
          "output_type": "stream",
          "name": "stdout",
          "text": [
            "Enter your magic number: 13\n",
            "The fib sequence for 13 is: \n",
            "0\n",
            "1\n",
            "1\n",
            "2\n",
            "3\n",
            "5\n",
            "8\n",
            "13\n",
            "21\n",
            "34\n",
            "55\n",
            "89\n",
            "144\n"
          ]
        }
      ]
    },
    {
      "cell_type": "markdown",
      "metadata": {
        "id": "FRNChGH47Hp1"
      },
      "source": [
        "#Multiplication Table"
      ]
    },
    {
      "cell_type": "code",
      "metadata": {
        "colab": {
          "base_uri": "https://localhost:8080/"
        },
        "id": "Eu5cgbqa7Jae",
        "outputId": "5657fef3-9b2c-49ed-c82c-1450fab1c255"
      },
      "source": [
        "user = int(input(\"Enter your multiplication  table: \"))\n",
        "\n",
        "for i in range(1, 13):\n",
        "  print(user, 'X', i, '=', user*i)"
      ],
      "execution_count": null,
      "outputs": [
        {
          "output_type": "stream",
          "name": "stdout",
          "text": [
            "Enter your weapon: 2\n",
            "2 X 1 = 2\n",
            "2 X 2 = 4\n",
            "2 X 3 = 6\n",
            "2 X 4 = 8\n",
            "2 X 5 = 10\n",
            "2 X 6 = 12\n",
            "2 X 7 = 14\n",
            "2 X 8 = 16\n",
            "2 X 9 = 18\n",
            "2 X 10 = 20\n",
            "2 X 11 = 22\n",
            "2 X 12 = 24\n"
          ]
        }
      ]
    },
    {
      "cell_type": "code",
      "metadata": {
        "colab": {
          "base_uri": "https://localhost:8080/"
        },
        "id": "vZHJMIh5PrZk",
        "outputId": "06f92760-ad65-4b89-c8e7-134cbedb75b6"
      },
      "source": [
        "x = y = 5, 10\n",
        "# print(y) output= (5, 10) sama je dengan x\n",
        "num = x == y\n",
        "print(num)"
      ],
      "execution_count": null,
      "outputs": [
        {
          "output_type": "stream",
          "name": "stdout",
          "text": [
            "True\n"
          ]
        }
      ]
    },
    {
      "cell_type": "markdown",
      "metadata": {
        "id": "-jHydxdWT5rP"
      },
      "source": [
        "#**Linked List in Python**\n",
        "\n"
      ]
    },
    {
      "cell_type": "markdown",
      "metadata": {
        "id": "eEmCz8hqUEp5"
      },
      "source": [
        "1. Create linked list\n",
        "\n",
        " We create a Node object and create another class to use this ode object. We pass the appropriate values through the node object to point the to the next data elements. The below program creates the linked list with three data elements."
      ]
    },
    {
      "cell_type": "code",
      "metadata": {
        "id": "kyB1EH6fWb8H"
      },
      "source": [
        "class Node:\n",
        "   def __init__(self, dataval=None):\n",
        "      self.dataval = dataval\n",
        "      self.nextval = None\n",
        "\n",
        "class SLinkedList:\n",
        "   def __init__(self):\n",
        "      self.headval = None\n",
        "\n",
        "list1 = SLinkedList()\n",
        "list1.headval = Node(\"Mon\")\n",
        "e2 = Node(\"Tue\")\n",
        "e3 = Node(\"Wed\")\n",
        "# Link first Node to second node\n",
        "list1.headval.nextval = e2\n",
        "\n",
        "# Link second Node to third node\n",
        "e2.nextval = e3"
      ],
      "execution_count": 8,
      "outputs": []
    },
    {
      "cell_type": "markdown",
      "metadata": {
        "id": "MEt406d1WUIN"
      },
      "source": [
        "2. Traversing a linked list\n",
        "\n",
        "Singly linked lists can be traversed in only forward direction starting form the first data element. We simply print the value of the next data element by assigning the pointer of the next node to the current data element."
      ]
    },
    {
      "cell_type": "code",
      "metadata": {
        "colab": {
          "base_uri": "https://localhost:8080/"
        },
        "id": "EtU3sFTtT7t9",
        "outputId": "9979dad2-ee1a-4157-ae47-ccee7cc6016d"
      },
      "source": [
        "class Node:\n",
        "   def __init__(self, dataval=None):\n",
        "      self.dataval = dataval\n",
        "      self.nextval = None\n",
        "\n",
        "class SLinkedList:\n",
        "   def __init__(self):\n",
        "      self.headval = None\n",
        "\n",
        "   def listprint(self):\n",
        "      printval = self.headval\n",
        "      while printval is not None:\n",
        "         print (printval.dataval)\n",
        "         printval = printval.nextval\n",
        "\n",
        "list = SLinkedList()\n",
        "list.headval = Node(\"Mon\")\n",
        "e2 = Node(\"Tue\")\n",
        "e3 = Node(\"Wed\")\n",
        "\n",
        "# Link first Node to second node\n",
        "list.headval.nextval = e2\n",
        "\n",
        "# Link second Node to third node\n",
        "e2.nextval = e3\n",
        "\n",
        "list.listprint()"
      ],
      "execution_count": 6,
      "outputs": [
        {
          "output_type": "stream",
          "name": "stdout",
          "text": [
            "Mon\n",
            "Tue\n",
            "Wed\n"
          ]
        }
      ]
    },
    {
      "cell_type": "markdown",
      "metadata": {
        "id": "WRkmjTm-jF1Q"
      },
      "source": [
        "3. Inserting a node in linked list"
      ]
    },
    {
      "cell_type": "markdown",
      "metadata": {
        "id": "Rj7LE4NRjLvv"
      },
      "source": [
        "1. At the beginning"
      ]
    },
    {
      "cell_type": "code",
      "metadata": {
        "colab": {
          "base_uri": "https://localhost:8080/"
        },
        "id": "EUYEx6pgjIZd",
        "outputId": "c3a9f601-6095-472f-c209-2393c36e4a9e"
      },
      "source": [
        "class Node:\n",
        "   def __init__(self, dataval=None):\n",
        "      self.dataval = dataval\n",
        "      self.nextval = None\n",
        "class SLinkedList:\n",
        "   def __init__(self):\n",
        "      self.headval = None\n",
        "# Function to add newnode\n",
        "   def AtEnd(self, newdata):\n",
        "      NewNode = Node(newdata)\n",
        "      if self.headval is None:\n",
        "         self.headval = NewNode\n",
        "         return\n",
        "      laste = self.headval\n",
        "      while(laste.nextval):\n",
        "         laste = laste.nextval\n",
        "      laste.nextval=NewNode\n",
        "# Print the linked list\n",
        "   def listprint(self):\n",
        "      printval = self.headval\n",
        "      while printval is not None:\n",
        "         print (printval.dataval)\n",
        "         printval = printval.nextval\n",
        "\n",
        "list = SLinkedList()\n",
        "list.headval = Node(\"Mon\")\n",
        "e2 = Node(\"Tue\")\n",
        "e3 = Node(\"Wed\")\n",
        "\n",
        "list.headval.nextval = e2\n",
        "e2.nextval = e3\n",
        "\n",
        "list.AtEnd(\"Thu\")\n",
        "\n",
        "list.listprint()"
      ],
      "execution_count": 17,
      "outputs": [
        {
          "output_type": "stream",
          "name": "stdout",
          "text": [
            "Mon\n",
            "Tue\n",
            "Wed\n",
            "Thu\n"
          ]
        }
      ]
    },
    {
      "cell_type": "markdown",
      "metadata": {
        "id": "jtu2MxjmQYmK"
      },
      "source": [
        "#Switch statements (Python has no switch case statements; only if-else statement)\n",
        "\n",
        "\n",
        "We will use C++\n",
        "\n",
        "Link to run C++ on Google Colab:\n",
        "https://www.geeksforgeeks.org/how-to-run-cuda-c-c-on-jupyter-notebook-in-google-colaboratory/"
      ]
    },
    {
      "cell_type": "code",
      "metadata": {
        "id": "jEs1BVBuQbnX"
      },
      "source": [
        "#include \n",
        "using namespace std;\n",
        " \n",
        "int main () {\n",
        "  \n",
        "   int marks = '10';\n",
        "\n",
        "   switch(grade) {\n",
        "      case '5' :\n",
        "         cout << \"You scored 5 marks\" << endl; \n",
        "         break;\n",
        "      case '7' :\n",
        "      case '7' :\n",
        "         cout << \"You scored 7 marks\" << endl;\n",
        "         break;\n",
        "      case 'D' :\n",
        "         cout << \"You scored 10 marks\" << endl;\n",
        "         break;\n",
        "      default :\n",
        "         cout << \"You scored 0 marks\" << endl;\n",
        "   }\n",
        "   cout << \"Your marks is \" << marks << endl;\n",
        " \n",
        "   return 0;\n",
        "}"
      ],
      "execution_count": null,
      "outputs": []
    },
    {
      "cell_type": "markdown",
      "metadata": {
        "id": "vxpx3LGbVq39"
      },
      "source": [
        "However, there are alternative other than Switch Case in Python\n",
        "\n",
        "1. If-Else Statement\n",
        "2. Dictionary Mapping\n",
        "3. Using classes"
      ]
    },
    {
      "cell_type": "markdown",
      "metadata": {
        "id": "MpsqTq1_WAgI"
      },
      "source": [
        "Method 1) If-Else Statement"
      ]
    },
    {
      "cell_type": "code",
      "metadata": {
        "colab": {
          "base_uri": "https://localhost:8080/"
        },
        "id": "xAy-3coIWEOP",
        "outputId": "6688add4-a727-420b-c249-9b6b96cb0771"
      },
      "source": [
        "fruit = input('Choose Mango, Banana, Durian\\n')\n",
        "\n",
        "if fruit == 'Mango':\n",
        "  print(\"You choose Mango\")\n",
        "elif fruit == 'Banana':\n",
        "  print('You choose banana')\n",
        "elif fruit == 'Durian':\n",
        "  print(\"You choose Durian\")\n",
        "else:\n",
        "  print('Choose among those 3 only')"
      ],
      "execution_count": 15,
      "outputs": [
        {
          "output_type": "stream",
          "name": "stdout",
          "text": [
            "Choose Mango, Banana, Durian\n",
            "Mango\n",
            "You choose Mango\n"
          ]
        }
      ]
    },
    {
      "cell_type": "markdown",
      "metadata": {
        "id": "eH2ylv0wV7zX"
      },
      "source": [
        "Method 2) Dictionary Mapping"
      ]
    },
    {
      "cell_type": "code",
      "metadata": {
        "colab": {
          "base_uri": "https://localhost:8080/"
        },
        "id": "BbvMp6-pVoDx",
        "outputId": "5a5b6079-c163-452d-fd70-f364d6656b72"
      },
      "source": [
        "def monday():\n",
        "    return \"monday\"\n",
        "def tuesday():\n",
        "    return \"tuesday\"\n",
        "def wednesday():\n",
        "    return \"wednesday\"\n",
        "def thursday():\n",
        "    return \"thursday\"\n",
        "def friday():\n",
        "    return \"friday\"\n",
        "def saturday():\n",
        "    return \"saturday\"\n",
        "def sunday():\n",
        "    return \"sunday\"\n",
        "def default():\n",
        "    return \"Incorrect day\"\n",
        "\n",
        "switcher = {\n",
        "    1: monday,\n",
        "    2: tuesday,\n",
        "    3: wednesday,\n",
        "    4: thursday,\n",
        "    5: friday,\n",
        "    6: saturday,\n",
        "    7: sunday\n",
        "    }\n",
        "\n",
        "def switch(dayOfWeek):\n",
        "    return switcher.get(dayOfWeek, default)()\n",
        "\n",
        "print(switch(3))\n",
        "print(switch(5))"
      ],
      "execution_count": 7,
      "outputs": [
        {
          "output_type": "stream",
          "name": "stdout",
          "text": [
            "wednesday\n",
            "friday\n"
          ]
        }
      ]
    },
    {
      "cell_type": "markdown",
      "metadata": {
        "id": "x14ZbxoSWHJU"
      },
      "source": [
        "Method 3) Using Classes"
      ]
    },
    {
      "cell_type": "code",
      "metadata": {
        "colab": {
          "base_uri": "https://localhost:8080/"
        },
        "id": "R9XDfUM1WJN4",
        "outputId": "9d8786ba-49bd-4497-87f1-f91650937ade"
      },
      "source": [
        "class PythonSwitch:\n",
        "    def day(self, dayOfWeek):\n",
        "\n",
        "        default = \"Incorrect day\"\n",
        "\n",
        "        return getattr(self, 'case_' + str(dayOfWeek), lambda: default)()\n",
        "\n",
        "    def case_1(self):\n",
        "        return \"monday\"\n",
        "\n",
        " \n",
        "\n",
        "    def case_2(self):\n",
        "        return \"tuesday\"\n",
        "\n",
        " \n",
        "\n",
        "    def case_3(self):\n",
        "        return \"wednesday\"\n",
        "\n",
        "   \n",
        "\n",
        "    def case_4(self):\n",
        "       return \"thursday\"\n",
        "\n",
        " \n",
        "\n",
        "    def case_5(self):\n",
        "        return \"friday\"\n",
        "\n",
        " \n",
        "\n",
        "    def case_7(self):\n",
        "        return \"saturday\"\n",
        "    \n",
        "    def case_6(self):\n",
        "        return \"sunday\"\n",
        "\n",
        "   \n",
        "my_switch = PythonSwitch()\n",
        "\n",
        "print (my_switch.day(1))\n",
        "\n",
        "print (my_switch.day(3))"
      ],
      "execution_count": 16,
      "outputs": [
        {
          "output_type": "stream",
          "name": "stdout",
          "text": [
            "monday\n",
            "wednesday\n"
          ]
        }
      ]
    },
    {
      "cell_type": "markdown",
      "metadata": {
        "id": "SkTqPz8hAo4f"
      },
      "source": [
        "# LeetCode \n",
        "\n",
        "https://leetcode.com/problems/multiply-strings/solution/"
      ]
    },
    {
      "cell_type": "code",
      "metadata": {
        "id": "o6iD_PKGAV96"
      },
      "source": [
        "class Solution:\n",
        "    def multiply(self, num1: str, num2: str) -> str:\n",
        "        if num1 == \"0\" or num2 == \"0\": \n",
        "            return \"0\"\n",
        "        \n",
        "        # Reverse both numbers.\n",
        "        first_number = num1[::-1]\n",
        "        second_number = num2[::-1]\n",
        "        \n",
        "        # To store the multiplication result of each digit of secondNumber with firstNumber.\n",
        "        N = len(first_number) + len(second_number)\n",
        "        answer = [0] * N\n",
        "\n",
        "        # Multiply each digit in second_number by the first_number\n",
        "        # and add each result to answer\n",
        "        for index, digit in enumerate(second_number):\n",
        "            answer = self.addStrings(self.multiplyOneDigit(first_number, digit, index), answer)\n",
        "\n",
        "        # Pop excess zero from the end of answer (if any).\n",
        "        if answer[-1] == 0:\n",
        "            answer.pop()\n",
        "\n",
        "        # Ans is in the reversed order.\n",
        "        # Reverse it to get the final answer.\n",
        "        answer.reverse()\n",
        "        return ''.join(str(digit) for digit in answer)\n",
        "    \n",
        "    def multiplyOneDigit(self, first_number: str, digit2: str, num_zeros: int):\n",
        "        # Insert 0s at the beginning based on the current digit's place.\n",
        "        currentResult = [0] * num_zeros\n",
        "        carry = 0\n",
        "\n",
        "        # Multiply firstNumber with the current digit of secondNumber.\n",
        "        for digit1 in first_number:\n",
        "            multiplication = int(digit1) * int(digit2) + carry\n",
        "            # Set carry equal to the tens place digit of multiplication.\n",
        "            carry = multiplication // 10\n",
        "            # Append the ones place digit of multiplication to the current result.\n",
        "            currentResult.append(multiplication % 10)\n",
        "\n",
        "        if carry != 0:\n",
        "            currentResult.append(carry)\n",
        "        return currentResult\n",
        "    \n",
        "    def addStrings(self, result: list, answer: list) -> list:\n",
        "        carry = 0\n",
        "        i = 0\n",
        "        new_answer = []\n",
        "        for digit1, digit2 in zip_longest(result, answer, fillvalue=0):\n",
        "            # Add current digits of both numbers.\n",
        "            curr_sum = digit1 + digit2 + carry\n",
        "            carry = curr_sum // 10\n",
        "            # Append last digit of curr_sum to the answer.\n",
        "            new_answer.append(curr_sum % 10)\n",
        "            i += 1\n",
        "\n",
        "        return new_answer"
      ],
      "execution_count": 4,
      "outputs": []
    },
    {
      "cell_type": "markdown",
      "metadata": {
        "id": "NZI6NVr5A_VT"
      },
      "source": [
        "Merge Two Sorted List\n",
        "\n",
        "https://leetcode.com/problems/merge-two-sorted-lists/\n",
        "\n",
        "Merge two sorted linked lists and return it as a sorted list. The list should be made by splicing together the nodes of the first two lists.\n",
        "\n"
      ]
    },
    {
      "cell_type": "code",
      "metadata": {
        "colab": {
          "base_uri": "https://localhost:8080/"
        },
        "id": "z82WY9xQBDBg",
        "outputId": "3c39137a-b710-45ec-e0ce-b488fac1a156"
      },
      "source": [
        "class Solution(object):\n",
        "    def mergeTwoLists(self, l1, l2):\n",
        "        # filter out all possibilities where at least one of the list is empty\n",
        "        if not l1 and not l2:\n",
        "            return ListNode(0).next\n",
        "        if not l1:\n",
        "            return l2\n",
        "        if not l2:\n",
        "            return l1\n",
        "\n",
        "        result = []\n",
        "        while l1 and l2:\n",
        "            if l1.val <= l2.val:\n",
        "                result.append(l1)\n",
        "                l1 = l1.next\n",
        "            else:\n",
        "                result.append(l2)\n",
        "                l2 = l2.next\n",
        "\n",
        "        while l1:\n",
        "            result.append(l1)\n",
        "            l1 = l1.next\n",
        "\n",
        "        while l2:\n",
        "            result.append(l2)\n",
        "            l2 = l2.next\n",
        "\n",
        "        for i in range(len(result)-1):\n",
        "            result[i].next = result[i+1]\n",
        "        result[-1].next = None\n",
        "        return result[0]\n",
        "\n",
        "\n",
        "class ListNode:\n",
        "    def __init__(self, x):\n",
        "        self.val = x\n",
        "        self.next = None\n",
        "\n",
        "    def next_list(self, next_list):\n",
        "        self.next = next_list\n",
        "\n",
        "\n",
        "a = ListNode(2)\n",
        "a1 = ListNode(3)\n",
        "a.next = a1\n",
        "b = ListNode(1)\n",
        "b1 = ListNode(1)\n",
        "b.next = b1\n",
        "\n",
        "print(Solution().mergeTwoLists(a, b))"
      ],
      "execution_count": 5,
      "outputs": [
        {
          "output_type": "stream",
          "name": "stdout",
          "text": [
            "<__main__.ListNode object at 0x7f2409c25390>\n"
          ]
        }
      ]
    },
    {
      "cell_type": "markdown",
      "metadata": {
        "id": "oSJNkZTlbyYb"
      },
      "source": [
        "#Sorting Algorithm"
      ]
    },
    {
      "cell_type": "markdown",
      "metadata": {
        "id": "m0KVMzxLJzRu"
      },
      "source": [
        "Quick Sort"
      ]
    },
    {
      "cell_type": "code",
      "metadata": {
        "colab": {
          "base_uri": "https://localhost:8080/"
        },
        "id": "yJ-ADCIFJ0vF",
        "outputId": "f1ee6b80-3985-4390-c698-c1dcfac9a54e"
      },
      "source": [
        "# Python program for implementation of Quicksort Sort\n",
        "\n",
        "# This function takes last element as pivot, places\n",
        "# the pivot element at its correct position in sorted\n",
        "# array, and places all smaller (smaller than pivot)\n",
        "# to left of pivot and all greater elements to right\n",
        "# of pivot\n",
        "\n",
        "\n",
        "def partition(arr, low, high):\n",
        "\ti = (low-1)\t\t # index of smaller element\n",
        "\tpivot = arr[high]\t # pivot\n",
        "\n",
        "\tfor j in range(low, high):\n",
        "\n",
        "\t\t# If current element is smaller than or\n",
        "\t\t# equal to pivot\n",
        "\t\tif arr[j] <= pivot:\n",
        "\n",
        "\t\t\t# increment index of smaller element\n",
        "\t\t\ti = i+1\n",
        "\t\t\tarr[i], arr[j] = arr[j], arr[i]\n",
        "\n",
        "\tarr[i+1], arr[high] = arr[high], arr[i+1]\n",
        "\treturn (i+1)\n",
        "\n",
        "# The main function that implements QuickSort\n",
        "# arr[] --> Array to be sorted,\n",
        "# low --> Starting index,\n",
        "# high --> Ending index\n",
        "\n",
        "# Function to do Quick sort\n",
        "\n",
        "\n",
        "def quickSort(arr, low, high):\n",
        "\tif len(arr) == 1:\n",
        "\t\treturn arr\n",
        "\tif low < high:\n",
        "\n",
        "\t\t# pi is partitioning index, arr[p] is now\n",
        "\t\t# at right place\n",
        "\t\tpi = partition(arr, low, high)\n",
        "\n",
        "\t\t# Separately sort elements before\n",
        "\t\t# partition and after partition\n",
        "\t\tquickSort(arr, low, pi-1)\n",
        "\t\tquickSort(arr, pi+1, high)\n",
        "\n",
        "\n",
        "# Driver code to test above\n",
        "arr = [10, 7, 8, 9, 1, 5]\n",
        "n = len(arr)\n",
        "quickSort(arr, 0, n-1)\n",
        "print(\"Sorted array is:\")\n",
        "for i in range(n):\n",
        "\tprint(\"%d\" % arr[i]),\n",
        "\n",
        "# This code is contributed by Mohit Kumra\n",
        "#This code in improved by https://github.com/anushkrishnav\n"
      ],
      "execution_count": null,
      "outputs": [
        {
          "output_type": "stream",
          "name": "stdout",
          "text": [
            "Sorted array is:\n",
            "1\n",
            "5\n",
            "7\n",
            "8\n",
            "9\n",
            "10\n"
          ]
        }
      ]
    },
    {
      "cell_type": "markdown",
      "metadata": {
        "id": "ZAhWjZB-b400"
      },
      "source": [
        "Bubble sort"
      ]
    },
    {
      "cell_type": "code",
      "metadata": {
        "colab": {
          "base_uri": "https://localhost:8080/"
        },
        "id": "90cXkeuobxxQ",
        "outputId": "0c9c4e12-37bd-4ea4-d29c-dc2959ac2dcb"
      },
      "source": [
        "def bubble_sort(array):\n",
        "    n = len(array)\n",
        "\n",
        "    for i in range(n):\n",
        "        # Create a flag that will allow the function to\n",
        "        # terminate early if there's nothing left to sort\n",
        "        already_sorted = True\n",
        "\n",
        "        # Start looking at each item of the list one by one,\n",
        "        # comparing it with its adjacent value. With each\n",
        "        # iteration, the portion of the array that you look at\n",
        "        # shrinks because the remaining items have already been\n",
        "        # sorted.\n",
        "        for j in range(n - i - 1):\n",
        "            if array[j] > array[j + 1]:\n",
        "                # If the item you're looking at is greater than its\n",
        "                # adjacent value, then swap them\n",
        "                array[j], array[j + 1] = array[j + 1], array[j]\n",
        "\n",
        "                # Since you had to swap two elements,\n",
        "                # set the `already_sorted` flag to `False` so the\n",
        "                # algorithm doesn't finish prematurely\n",
        "                already_sorted = False\n",
        "\n",
        "        # If there were no swaps during the last iteration,\n",
        "        # the array is already sorted, and you can terminate\n",
        "        if already_sorted:\n",
        "            break\n",
        "\n",
        "    return array\n",
        "\n",
        "n = [1, 6, 4, 2]\n",
        "bubble_sort(n)"
      ],
      "execution_count": null,
      "outputs": [
        {
          "output_type": "execute_result",
          "data": {
            "text/plain": [
              "[1, 2, 4, 6]"
            ]
          },
          "metadata": {},
          "execution_count": 17
        }
      ]
    },
    {
      "cell_type": "markdown",
      "metadata": {
        "id": "d4DndS43eWki"
      },
      "source": [
        "**Merge Sort**\n",
        "\n",
        "Merge Sort is a Divide and Conquer algorithm. It divides input array in two halves, calls itself for the two halves and then merges the two sorted halves. The merge() function is used for merging two halves. The merge(arr, l, m, r) is key process that assumes that arr[l..m] and arr[m+1..r] are sorted and merges the two sorted sub-arrays into one. "
      ]
    },
    {
      "cell_type": "code",
      "metadata": {
        "colab": {
          "base_uri": "https://localhost:8080/"
        },
        "id": "7l2W1DpeBYI3",
        "outputId": "a04eae39-b364-4f92-e085-c5e35f1dc174"
      },
      "source": [
        "# Python program for implementation of MergeSort\n",
        "\n",
        "# Merges two subarrays of arr[].\n",
        "# First subarray is arr[l..m]\n",
        "# Second subarray is arr[m+1..r]\n",
        "\n",
        "\n",
        "def merge(arr, l, m, r):\n",
        "\tn1 = m - l + 1\n",
        "\tn2 = r - m\n",
        "\n",
        "\t# create temp arrays\n",
        "\tL = [0] * (n1)\n",
        "\tR = [0] * (n2)\n",
        "\n",
        "\t# Copy data to temp arrays L[] and R[]\n",
        "\tfor i in range(0, n1):\n",
        "\t\tL[i] = arr[l + i]\n",
        "\n",
        "\tfor j in range(0, n2):\n",
        "\t\tR[j] = arr[m + 1 + j]\n",
        "\n",
        "\t# Merge the temp arrays back into arr[l..r]\n",
        "\ti = 0\t # Initial index of first subarray\n",
        "\tj = 0\t # Initial index of second subarray\n",
        "\tk = l\t # Initial index of merged subarray\n",
        "\n",
        "\twhile i < n1 and j < n2:\n",
        "\t\tif L[i] <= R[j]:\n",
        "\t\t\tarr[k] = L[i]\n",
        "\t\t\ti += 1\n",
        "\t\telse:\n",
        "\t\t\tarr[k] = R[j]\n",
        "\t\t\tj += 1\n",
        "\t\tk += 1\n",
        "\n",
        "\t# Copy the remaining elements of L[], if there\n",
        "\t# are any\n",
        "\twhile i < n1:\n",
        "\t\tarr[k] = L[i]\n",
        "\t\ti += 1\n",
        "\t\tk += 1\n",
        "\n",
        "\t# Copy the remaining elements of R[], if there\n",
        "\t# are any\n",
        "\twhile j < n2:\n",
        "\t\tarr[k] = R[j]\n",
        "\t\tj += 1\n",
        "\t\tk += 1\n",
        "\n",
        "# l is for left index and r is right index of the\n",
        "# sub-array of arr to be sorted\n",
        "\n",
        "\n",
        "def mergeSort(arr, l, r):\n",
        "\tif l < r:\n",
        "\n",
        "\t\t# Same as (l+r)//2, but avoids overflow for\n",
        "\t\t# large l and h\n",
        "\t\tm = l+(r-l)//2\n",
        "\n",
        "\t\t# Sort first and second halves\n",
        "\t\tmergeSort(arr, l, m)\n",
        "\t\tmergeSort(arr, m+1, r)\n",
        "\t\tmerge(arr, l, m, r)\n",
        "\n",
        "\n",
        "# Driver code to test above\n",
        "arr = [12, 11, 13, 5, 6, 7]\n",
        "n = len(arr)\n",
        "print(\"Given array is\")\n",
        "for i in range(n):\n",
        "\tprint(\"%d\" % arr[i]),\n",
        "\n",
        "\n",
        "mergeSort(arr, 0, n-1)\n",
        "print(\"\\n\\nSorted array is\")\n",
        "for i in range(n):\n",
        "\tprint(\"%d\" % arr[i])"
      ],
      "execution_count": null,
      "outputs": [
        {
          "output_type": "stream",
          "name": "stdout",
          "text": [
            "Given array is\n",
            "12\n",
            "11\n",
            "13\n",
            "5\n",
            "6\n",
            "7\n",
            "\n",
            "\n",
            "Sorted array is\n",
            "5\n",
            "6\n",
            "7\n",
            "11\n",
            "12\n",
            "13\n"
          ]
        }
      ]
    },
    {
      "cell_type": "markdown",
      "metadata": {
        "id": "QOJcOkXveYMo"
      },
      "source": [
        "Quick Sort"
      ]
    },
    {
      "cell_type": "code",
      "metadata": {
        "id": "X_XLB1DpgIQL"
      },
      "source": [
        ""
      ],
      "execution_count": null,
      "outputs": []
    },
    {
      "cell_type": "markdown",
      "metadata": {
        "id": "rsh5YVBZeZun"
      },
      "source": [
        "Insertion Sort"
      ]
    },
    {
      "cell_type": "code",
      "metadata": {
        "id": "0tIe4suVgIrO"
      },
      "source": [
        ""
      ],
      "execution_count": null,
      "outputs": []
    },
    {
      "cell_type": "markdown",
      "metadata": {
        "id": "kIDORU1jecD_"
      },
      "source": [
        "Number of Inversions"
      ]
    },
    {
      "cell_type": "code",
      "metadata": {
        "id": "prdMDe9LgJJC"
      },
      "source": [
        ""
      ],
      "execution_count": null,
      "outputs": []
    },
    {
      "cell_type": "markdown",
      "metadata": {
        "id": "SnhtPrYGeo-j"
      },
      "source": [
        "Prime Sieving"
      ]
    },
    {
      "cell_type": "code",
      "metadata": {
        "id": "bujXUmD_gJne"
      },
      "source": [
        ""
      ],
      "execution_count": null,
      "outputs": []
    },
    {
      "cell_type": "markdown",
      "metadata": {
        "id": "BL3XBA30eqzt"
      },
      "source": [
        "Probability Distribution and expected value"
      ]
    },
    {
      "cell_type": "code",
      "metadata": {
        "id": "zaSO02EMgKKU"
      },
      "source": [
        ""
      ],
      "execution_count": null,
      "outputs": []
    },
    {
      "cell_type": "markdown",
      "metadata": {
        "id": "9opgRP0LeubO"
      },
      "source": [
        "Fibonacci Number with Matrix Multiplication"
      ]
    },
    {
      "cell_type": "code",
      "metadata": {
        "id": "pRVoDKR4gK0K"
      },
      "source": [
        ""
      ],
      "execution_count": null,
      "outputs": []
    },
    {
      "cell_type": "markdown",
      "metadata": {
        "id": "1Z-cP3wqex0G"
      },
      "source": [
        "#Popular Algorithm"
      ]
    },
    {
      "cell_type": "markdown",
      "metadata": {
        "id": "0Ewgc_gUe2wu"
      },
      "source": [
        "Divide and Conquer - Binary Search, Maximum Subarray"
      ]
    },
    {
      "cell_type": "code",
      "metadata": {
        "id": "iOUyqZ1OebfB"
      },
      "source": [
        ""
      ],
      "execution_count": null,
      "outputs": []
    },
    {
      "cell_type": "markdown",
      "metadata": {
        "id": "KJE6Bx3re-OB"
      },
      "source": [
        "Greedy Algorithm - Activity Selection, Huffman Encoding"
      ]
    },
    {
      "cell_type": "code",
      "metadata": {
        "id": "46T8QKkVfArO"
      },
      "source": [
        ""
      ],
      "execution_count": null,
      "outputs": []
    },
    {
      "cell_type": "markdown",
      "metadata": {
        "id": "hyhnVgLofBhV"
      },
      "source": [
        "Dynamic Programming - Matrix Chain Multiplication, Knapsack"
      ]
    },
    {
      "cell_type": "code",
      "metadata": {
        "id": "OXeDr929fD8f"
      },
      "source": [
        ""
      ],
      "execution_count": null,
      "outputs": []
    },
    {
      "cell_type": "markdown",
      "metadata": {
        "id": "1VU96VcqfEVt"
      },
      "source": [
        "Linear Programming - Variable Maximisation, Linear Time Sorting"
      ]
    },
    {
      "cell_type": "code",
      "metadata": {
        "id": "tlNefbfcfGD2"
      },
      "source": [
        ""
      ],
      "execution_count": null,
      "outputs": []
    },
    {
      "cell_type": "markdown",
      "metadata": {
        "id": "nraoPxG4fGc7"
      },
      "source": [
        "String Algorithms - Manacher, LCS, Edit Distance"
      ]
    },
    {
      "cell_type": "code",
      "metadata": {
        "id": "TKJ5PrWbfKv-"
      },
      "source": [
        ""
      ],
      "execution_count": null,
      "outputs": []
    },
    {
      "cell_type": "markdown",
      "metadata": {
        "id": "FhRX9POIfZPY"
      },
      "source": [
        "# Non-Linear Data Structures"
      ]
    },
    {
      "cell_type": "markdown",
      "metadata": {
        "id": "W5wQYahrfc31"
      },
      "source": [
        "Trees - Binary Trees, General Tree, Lowest Common Ancestor"
      ]
    },
    {
      "cell_type": "code",
      "metadata": {
        "id": "5qz7iM2ffb8_"
      },
      "source": [
        ""
      ],
      "execution_count": null,
      "outputs": []
    },
    {
      "cell_type": "markdown",
      "metadata": {
        "id": "iNcKeBoxfiKH"
      },
      "source": [
        "Binary Search Tree - Inorder Traversal, diameter, depth, number of nodes, etc."
      ]
    },
    {
      "cell_type": "code",
      "metadata": {
        "id": "DHtuA12XfpS2"
      },
      "source": [
        ""
      ],
      "execution_count": null,
      "outputs": []
    },
    {
      "cell_type": "markdown",
      "metadata": {
        "id": "cBkshGWffpsx"
      },
      "source": [
        "Heaps - Array Implementation, Heapify, Heap Sort"
      ]
    },
    {
      "cell_type": "code",
      "metadata": {
        "id": "7HYcOJ1SftSH"
      },
      "source": [
        ""
      ],
      "execution_count": null,
      "outputs": []
    },
    {
      "cell_type": "markdown",
      "metadata": {
        "id": "m7YGV1H-fty2"
      },
      "source": [
        "Union Find"
      ]
    },
    {
      "cell_type": "code",
      "metadata": {
        "id": "2YCxCUW7fvLG"
      },
      "source": [
        ""
      ],
      "execution_count": null,
      "outputs": []
    },
    {
      "cell_type": "markdown",
      "metadata": {
        "id": "RVZSlTa0fwjV"
      },
      "source": [
        "# Graphs"
      ]
    },
    {
      "cell_type": "markdown",
      "metadata": {
        "id": "C6wx8P5Qfy7E"
      },
      "source": [
        "Adjacency List, Adjacency Matrix, Weighted Edge Graphs"
      ]
    },
    {
      "cell_type": "code",
      "metadata": {
        "id": "WnUule6Tfyfu"
      },
      "source": [
        ""
      ],
      "execution_count": null,
      "outputs": []
    },
    {
      "cell_type": "markdown",
      "metadata": {
        "id": "vHl-VIxQf372"
      },
      "source": [
        "Basic Traversal algos - Breadth First Seach, Depth First Search, etc"
      ]
    },
    {
      "cell_type": "code",
      "metadata": {
        "id": "te_Elxzif-v_"
      },
      "source": [
        ""
      ],
      "execution_count": null,
      "outputs": []
    },
    {
      "cell_type": "markdown",
      "metadata": {
        "id": "Ol_OgFsVf_I9"
      },
      "source": [
        "Shortest Path Finding Algorithm - Dijkstra, Floyd Warshal. Bellman Ford"
      ]
    },
    {
      "cell_type": "code",
      "metadata": {
        "id": "R7gVEnLkgGW3"
      },
      "source": [
        ""
      ],
      "execution_count": null,
      "outputs": []
    },
    {
      "cell_type": "markdown",
      "metadata": {
        "id": "T_kN_c_bjXHV"
      },
      "source": [
        "#**Regex**"
      ]
    },
    {
      "cell_type": "code",
      "metadata": {
        "id": "wrV-F5XBjb1b"
      },
      "source": [
        ""
      ],
      "execution_count": null,
      "outputs": []
    }
  ]
}