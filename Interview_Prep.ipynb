{
  "nbformat": 4,
  "nbformat_minor": 0,
  "metadata": {
    "colab": {
      "name": "Interview Prep",
      "provenance": [],
      "authorship_tag": "ABX9TyMYppITThgUZvmeo7mRDcaH",
      "include_colab_link": true
    },
    "kernelspec": {
      "name": "python3",
      "display_name": "Python 3"
    },
    "language_info": {
      "name": "python"
    }
  },
  "cells": [
    {
      "cell_type": "markdown",
      "metadata": {
        "id": "view-in-github",
        "colab_type": "text"
      },
      "source": [
        "<a href=\"https://colab.research.google.com/github/Cyrill98/Data-Structures-Algorithms/blob/main/Interview_Prep.ipynb\" target=\"_parent\"><img src=\"https://colab.research.google.com/assets/colab-badge.svg\" alt=\"Open In Colab\"/></a>"
      ]
    },
    {
      "cell_type": "markdown",
      "metadata": {
        "id": "Hpl35ho3te58"
      },
      "source": [
        "#Check odd numbers"
      ]
    },
    {
      "cell_type": "code",
      "metadata": {
        "colab": {
          "base_uri": "https://localhost:8080/"
        },
        "id": "JGWHJHHytUfI",
        "outputId": "b7d4a72c-8533-45a3-81bc-288f64609899"
      },
      "source": [
        "for i in range(10):\n",
        "  if i % 2 != 0:\n",
        "    print(i)"
      ],
      "execution_count": null,
      "outputs": [
        {
          "output_type": "stream",
          "name": "stdout",
          "text": [
            "1\n",
            "3\n",
            "5\n",
            "7\n",
            "9\n"
          ]
        }
      ]
    },
    {
      "cell_type": "markdown",
      "metadata": {
        "id": "p5_sNtzAN0GD"
      },
      "source": [
        "#Check Prime Numbers"
      ]
    },
    {
      "cell_type": "markdown",
      "metadata": {
        "id": "VOOSzhjcOfLQ"
      },
      "source": [
        "1. Using Flag variable"
      ]
    },
    {
      "cell_type": "code",
      "metadata": {
        "colab": {
          "base_uri": "https://localhost:8080/"
        },
        "id": "V8emu_KpNTiX",
        "outputId": "1c6bf84a-d85e-4c2a-d172-69d5b066cfdd"
      },
      "source": [
        "num = int(input(\"Enter number\\n\"))\n",
        "\n",
        "flag = False\n",
        "\n",
        "if num > 1:\n",
        "  for i in range(2, num):\n",
        "    if(num % i) == 0:\n",
        "      flag = True\n",
        "      break\n",
        "\n",
        "if flag:\n",
        "  print(num,\"is not a prime number\")\n",
        "else:\n",
        "  print(num,\"is a prime number\")"
      ],
      "execution_count": 33,
      "outputs": [
        {
          "output_type": "stream",
          "name": "stdout",
          "text": [
            "Enter number\n",
            "34\n",
            "34 is not a prime number\n"
          ]
        }
      ]
    },
    {
      "cell_type": "markdown",
      "metadata": {
        "id": "RKbNoRC5Oibq"
      },
      "source": [
        "2. Using For...else statement"
      ]
    },
    {
      "cell_type": "code",
      "metadata": {
        "colab": {
          "base_uri": "https://localhost:8080/"
        },
        "id": "bk5wmupfOl_Q",
        "outputId": "d51f0856-f6ca-4491-b181-e39a2caefc1b"
      },
      "source": [
        "num = int(input(\"Enter number\"))\n",
        "\n",
        "if num > i:\n",
        "  for i in range(2, num):\n",
        "    if num % i == 0:\n",
        "      print(num,\"is not a prime number\")\n",
        "      print(i,\"times\", num//i,\"is\",num)\n",
        "      break\n",
        "    else:\n",
        "      print(num,\"is a prime number\")\n",
        "else:\n",
        "  print(num,\"is not a prime number\")"
      ],
      "execution_count": 27,
      "outputs": [
        {
          "output_type": "stream",
          "name": "stdout",
          "text": [
            "Enter number34\n",
            "34 is not a prime number\n",
            "2 times 17 is 34\n"
          ]
        }
      ]
    },
    {
      "cell_type": "markdown",
      "metadata": {
        "id": "oD-jTo1NtiWc"
      },
      "source": [
        "#Check factorial number"
      ]
    },
    {
      "cell_type": "code",
      "metadata": {
        "colab": {
          "base_uri": "https://localhost:8080/"
        },
        "id": "kFzFTxu1tkeW",
        "outputId": "7de1eeee-a8df-4c27-c67a-e22a5eef5571"
      },
      "source": [
        "user = int(input(\"Enter number\"))\n",
        "factorial = 1\n",
        "\n",
        "if user < 0:\n",
        "  print(\"Doesnt exist\")\n",
        "elif user == 0:\n",
        "  print(\"Factorial number is 1\")\n",
        "else:\n",
        "  for i in range(1, user+1):\n",
        "    factorial = factorial*i\n",
        "  print(factorial)"
      ],
      "execution_count": null,
      "outputs": [
        {
          "output_type": "stream",
          "name": "stdout",
          "text": [
            "Enter number4\n",
            "24\n"
          ]
        }
      ]
    },
    {
      "cell_type": "markdown",
      "metadata": {
        "id": "zc9xcBIXvQkh"
      },
      "source": [
        "#Check odd/even number"
      ]
    },
    {
      "cell_type": "code",
      "metadata": {
        "colab": {
          "base_uri": "https://localhost:8080/"
        },
        "id": "8AYZTLYJu-iU",
        "outputId": "49d3fd5d-a39f-4416-dbe9-4333ea1260d5"
      },
      "source": [
        "user = int(input(\"Enter any number: \"))\n",
        "\n",
        "if user % 2 != 0:\n",
        "  print(\"That is odd number\")\n",
        "else:\n",
        "  print(\"That is even number\")"
      ],
      "execution_count": null,
      "outputs": [
        {
          "output_type": "stream",
          "name": "stdout",
          "text": [
            "Enter any number: 3\n",
            "That is odd number\n"
          ]
        }
      ]
    },
    {
      "cell_type": "code",
      "metadata": {
        "colab": {
          "base_uri": "https://localhost:8080/"
        },
        "id": "OpLuFEBBR8U6",
        "outputId": "e8d0c32a-cc0d-4bb7-e1d6-ff1bb5f21dbe"
      },
      "source": [
        "def oddtak(user1):\n",
        "  if user1 % 2 != 0:\n",
        "    print(\"Number is odd\")\n",
        "  elif user1 % 2 == 0:\n",
        "    print(\"Number is even\")\n",
        "  else:\n",
        "    print(\"Invalid number\")\n",
        "\n",
        "oddtak(int(input(\"Enter any number\")))"
      ],
      "execution_count": null,
      "outputs": [
        {
          "output_type": "stream",
          "name": "stdout",
          "text": [
            "Enter any number12\n",
            "Number is even\n"
          ]
        }
      ]
    },
    {
      "cell_type": "markdown",
      "metadata": {
        "id": "ye_xZriYvqZt"
      },
      "source": [
        "#Check leap year\n",
        "\n",
        "You should follow the following steps to determine whether a year is a leap year or not.\n",
        "\n",
        "\n",
        "1.   If a year is evenly divisible by 4 means having no remainder then go to next step. If it is not divisible by 4. It is not a leap year. For example: 1997 is not a leap year.\n",
        "2.   If a year is divisible by 4, but not by 100. For example: 2012, it is a leap year. If a year is divisible by both 4 and 100, go to next step.\n",
        "3.   If a year is divisible by 100, but not by 400. For example: 1900, then it is not a leap year.\n",
        "4.    If a year is divisible by both, then it is a leap year. So 2000 is a leap year.\n",
        "\n",
        "\n",
        "\n",
        "\n",
        "\n"
      ]
    },
    {
      "cell_type": "code",
      "metadata": {
        "colab": {
          "base_uri": "https://localhost:8080/"
        },
        "id": "npG64QqIvp4_",
        "outputId": "3a7b5281-92b6-4390-a6ee-85e0cff3bcad"
      },
      "source": [
        "user = int(input(\"Enter any year: \"))\n",
        "\n",
        "if (user % 400 == 0) or (user % 100 != 0) and (user % 4 == 0):\n",
        "  print(\"Leap year\")\n",
        "else:\n",
        "  print(\"Not Leap year\")"
      ],
      "execution_count": null,
      "outputs": [
        {
          "output_type": "stream",
          "name": "stdout",
          "text": [
            "Enter any year2012\n",
            "Leap year\n"
          ]
        }
      ]
    },
    {
      "cell_type": "markdown",
      "metadata": {
        "id": "PNrx9NNd0JGl"
      },
      "source": [
        "Armstrong Number"
      ]
    },
    {
      "cell_type": "code",
      "metadata": {
        "colab": {
          "base_uri": "https://localhost:8080/"
        },
        "id": "eI1TSH9E0Kp9",
        "outputId": "6b0044da-30c6-454c-89ad-055bd3defde8"
      },
      "source": [
        "n = int(input(\"Insert number to be converted into Armstrong number\"))\n",
        "#Initialize sum\n",
        "s=0\n",
        "t = n\n",
        "\n",
        "while t > 0:\n",
        "  # take last digit\n",
        "  x = t % 10\n",
        "  #Perform Armstrong calculation\n",
        "  s += x **3\n",
        "  t //= 10\n",
        "\n",
        "if n==s:\n",
        "  print('Armstrong',n)\n",
        "else:\n",
        "  print(\"Not armstrong\",n)\n",
        "\n"
      ],
      "execution_count": 33,
      "outputs": [
        {
          "output_type": "stream",
          "name": "stdout",
          "text": [
            "Insert number to be converted into Armstrong number371\n",
            "Armstrong 371\n"
          ]
        }
      ]
    },
    {
      "cell_type": "code",
      "metadata": {
        "colab": {
          "base_uri": "https://localhost:8080/"
        },
        "id": "-UekTUwA1VSU",
        "outputId": "90c4fdfe-7ded-48df-d318-f865a667e8a0"
      },
      "source": [
        "x = 23\n",
        "# Notice that % 10 always return digit last\n",
        "y = x % 10\n",
        "print(y)"
      ],
      "execution_count": 25,
      "outputs": [
        {
          "output_type": "stream",
          "name": "stdout",
          "text": [
            "3\n"
          ]
        }
      ]
    },
    {
      "cell_type": "code",
      "metadata": {
        "colab": {
          "base_uri": "https://localhost:8080/"
        },
        "id": "4XqYhmP_3GPr",
        "outputId": "57e352d1-7be7-49aa-c086-d68dbd7835fe"
      },
      "source": [
        "x = 10\n",
        "# //operator berlawanan dengan %operator\n",
        "x//=3\n",
        "print(x)"
      ],
      "execution_count": 28,
      "outputs": [
        {
          "output_type": "stream",
          "name": "stdout",
          "text": [
            "3\n"
          ]
        }
      ]
    },
    {
      "cell_type": "markdown",
      "metadata": {
        "id": "qT716yTs2_YZ"
      },
      "source": [
        "#Fibonacci Sequence"
      ]
    },
    {
      "cell_type": "code",
      "metadata": {
        "colab": {
          "base_uri": "https://localhost:8080/"
        },
        "id": "-rU-Tvrh3BMJ",
        "outputId": "228e628e-057c-493f-9f94-3ea37495d32b"
      },
      "source": [
        "n = int(input(\"Enter your magic number: \"))\n",
        "counter = 0\n",
        "no1 = 0\n",
        "no2 = 1\n",
        "\n",
        "if n < 0:\n",
        "  print(\"Plase enter positive integer\")\n",
        "elif n == 0:\n",
        "  print(\"The fibonacci sequence must be greater than\", n)\n",
        "else:\n",
        "  print(\"The fib sequence for\", n, \"is: \")\n",
        "  while counter < n:\n",
        "    print(no1)\n",
        "    nth = no1 + no2\n",
        "    no1 = no2\n",
        "    no2 = nth\n",
        "    counter += 1"
      ],
      "execution_count": null,
      "outputs": [
        {
          "output_type": "stream",
          "name": "stdout",
          "text": [
            "Enter your magic number: 13\n",
            "The fib sequence for 13 is: \n",
            "0\n",
            "1\n",
            "1\n",
            "2\n",
            "3\n",
            "5\n",
            "8\n",
            "13\n",
            "21\n",
            "34\n",
            "55\n",
            "89\n",
            "144\n"
          ]
        }
      ]
    },
    {
      "cell_type": "markdown",
      "metadata": {
        "id": "FRNChGH47Hp1"
      },
      "source": [
        "#Multiplication Table"
      ]
    },
    {
      "cell_type": "code",
      "metadata": {
        "colab": {
          "base_uri": "https://localhost:8080/"
        },
        "id": "R70aqFSQDVms",
        "outputId": "82b4637c-53ed-41b9-c31c-d00115659150"
      },
      "source": [
        "user = int(input(\"Enter multiplication table: \"))\n",
        "\n",
        "for i in range (13):\n",
        "  ans = user * i\n",
        "  print(user, 'X', i, '=', ans)\n"
      ],
      "execution_count": null,
      "outputs": [
        {
          "output_type": "stream",
          "name": "stdout",
          "text": [
            "Enter multiplication table: 3\n",
            "3 X 0 = 0\n",
            "3 X 1 = 3\n",
            "3 X 2 = 6\n",
            "3 X 3 = 9\n",
            "3 X 4 = 12\n",
            "3 X 5 = 15\n",
            "3 X 6 = 18\n",
            "3 X 7 = 21\n",
            "3 X 8 = 24\n",
            "3 X 9 = 27\n",
            "3 X 10 = 30\n",
            "3 X 11 = 33\n",
            "3 X 12 = 36\n"
          ]
        }
      ]
    },
    {
      "cell_type": "code",
      "metadata": {
        "colab": {
          "base_uri": "https://localhost:8080/"
        },
        "id": "Eu5cgbqa7Jae",
        "outputId": "5657fef3-9b2c-49ed-c82c-1450fab1c255"
      },
      "source": [
        "user = int(input(\"Enter your multiplication  table: \"))\n",
        "\n",
        "for i in range(1, 13):\n",
        "  print(user, 'X', i, '=', user*i)"
      ],
      "execution_count": null,
      "outputs": [
        {
          "output_type": "stream",
          "name": "stdout",
          "text": [
            "Enter your weapon: 2\n",
            "2 X 1 = 2\n",
            "2 X 2 = 4\n",
            "2 X 3 = 6\n",
            "2 X 4 = 8\n",
            "2 X 5 = 10\n",
            "2 X 6 = 12\n",
            "2 X 7 = 14\n",
            "2 X 8 = 16\n",
            "2 X 9 = 18\n",
            "2 X 10 = 20\n",
            "2 X 11 = 22\n",
            "2 X 12 = 24\n"
          ]
        }
      ]
    },
    {
      "cell_type": "markdown",
      "metadata": {
        "id": "EuTdkXPHWxgd"
      },
      "source": [
        "# Check Palindrome Number"
      ]
    },
    {
      "cell_type": "code",
      "metadata": {
        "colab": {
          "base_uri": "https://localhost:8080/"
        },
        "id": "IU0hoA-JWzhN",
        "outputId": "534651d3-e1c5-4ca8-a54d-a19f77777977"
      },
      "source": [
        "n=int(input(\"Enter number:\"))\n",
        "temp=n\n",
        "rev=0\n",
        "while(n>0):\n",
        "  dig=n%10\n",
        "  rev=rev*10+dig\n",
        "  n=n//10\n",
        "if(temp==rev):\n",
        "  print(\"The number is a palindrome!\")\n",
        "else:\n",
        "  print(\"The number isn't a palindrome!\")"
      ],
      "execution_count": 9,
      "outputs": [
        {
          "output_type": "stream",
          "name": "stdout",
          "text": [
            "Enter number:12\n",
            "The number isn't a palindrome!\n"
          ]
        }
      ]
    },
    {
      "cell_type": "markdown",
      "metadata": {
        "id": "e8ECmQCyXAP6"
      },
      "source": [
        "# Count number of digit in number"
      ]
    },
    {
      "cell_type": "code",
      "metadata": {
        "colab": {
          "base_uri": "https://localhost:8080/"
        },
        "id": "JgZWf_2EXC1X",
        "outputId": "1a5d2e23-1d7c-49d9-d935-d16ccae751cb"
      },
      "source": [
        "n = int(input(\"Enter any large number\"))\n",
        "\n",
        "count = 0\n",
        "while n > 0:\n",
        "  count+=1\n",
        "  n = n//10\n",
        "print(count)\n"
      ],
      "execution_count": 11,
      "outputs": [
        {
          "output_type": "stream",
          "name": "stdout",
          "text": [
            "Enter any large number132432\n",
            "6\n"
          ]
        }
      ]
    },
    {
      "cell_type": "code",
      "metadata": {
        "colab": {
          "base_uri": "https://localhost:8080/"
        },
        "id": "vZHJMIh5PrZk",
        "outputId": "06f92760-ad65-4b89-c8e7-134cbedb75b6"
      },
      "source": [
        "x = y = 5, 10\n",
        "# print(y) output= (5, 10) sama je dengan x\n",
        "num = x == y\n",
        "print(num)"
      ],
      "execution_count": null,
      "outputs": [
        {
          "output_type": "stream",
          "name": "stdout",
          "text": [
            "True\n"
          ]
        }
      ]
    },
    {
      "cell_type": "markdown",
      "metadata": {
        "id": "zrIzvXaa6lxt"
      },
      "source": [
        "#Find the Second Largest Number in a List"
      ]
    },
    {
      "cell_type": "code",
      "metadata": {
        "colab": {
          "base_uri": "https://localhost:8080/"
        },
        "id": "KjmHPIpf6mgi",
        "outputId": "7c722858-549b-4536-b26e-67fcde3df71b"
      },
      "source": [
        "a = int(input(\"Enter list of number\"))\n",
        "initial = []\n",
        "\n",
        "for i in range(1, a+1):\n",
        "  b = int(input(\"Enter number\"))\n",
        "  initial.append(b)\n",
        "  initial.sort()\n",
        "\n",
        "print(\"Your list of number is: \",initial)\n",
        "print(\"The second largest of number in your list is :\", initial[-2])"
      ],
      "execution_count": 43,
      "outputs": [
        {
          "output_type": "stream",
          "name": "stdout",
          "text": [
            "Enter list of number4\n",
            "Enter number54\n",
            "Enter number65\n",
            "Enter number23\n",
            "Enter number756\n",
            "Your list of number is:  [23, 54, 65, 756]\n",
            "The second largest of number in your list is : 65\n"
          ]
        }
      ]
    },
    {
      "cell_type": "markdown",
      "metadata": {
        "id": "-kNFDXQz-FJN"
      },
      "source": [
        "#Find Average Number"
      ]
    },
    {
      "cell_type": "code",
      "metadata": {
        "colab": {
          "base_uri": "https://localhost:8080/",
          "height": 280
        },
        "id": "mRZImtgg-HWF",
        "outputId": "57070c07-7de5-437e-9ec9-25b4e3ac7fda"
      },
      "source": [
        "a = int(input(\"Enter the number of elements to be inserted\"))\n",
        "c = []\n",
        "for i in range(0, a):\n",
        "  b = int(input(\"Enter the element\"))\n",
        "  result = sum(b)/a\n",
        "  # c.append(b)\n",
        "  # result = sum(c)/a\n",
        "\n",
        "print(result)"
      ],
      "execution_count": 49,
      "outputs": [
        {
          "name": "stdout",
          "output_type": "stream",
          "text": [
            "Enter the number of elements to be inserted32\n",
            "Enter the element2\n"
          ]
        },
        {
          "output_type": "error",
          "ename": "TypeError",
          "evalue": "ignored",
          "traceback": [
            "\u001b[0;31m---------------------------------------------------------------------------\u001b[0m",
            "\u001b[0;31mTypeError\u001b[0m                                 Traceback (most recent call last)",
            "\u001b[0;32m<ipython-input-49-eadae7a8ec94>\u001b[0m in \u001b[0;36m<module>\u001b[0;34m()\u001b[0m\n\u001b[1;32m      3\u001b[0m \u001b[0;32mfor\u001b[0m \u001b[0mi\u001b[0m \u001b[0;32min\u001b[0m \u001b[0mrange\u001b[0m\u001b[0;34m(\u001b[0m\u001b[0;36m0\u001b[0m\u001b[0;34m,\u001b[0m \u001b[0ma\u001b[0m\u001b[0;34m)\u001b[0m\u001b[0;34m:\u001b[0m\u001b[0;34m\u001b[0m\u001b[0;34m\u001b[0m\u001b[0m\n\u001b[1;32m      4\u001b[0m   \u001b[0mb\u001b[0m \u001b[0;34m=\u001b[0m \u001b[0mint\u001b[0m\u001b[0;34m(\u001b[0m\u001b[0minput\u001b[0m\u001b[0;34m(\u001b[0m\u001b[0;34m\"Enter the element\"\u001b[0m\u001b[0;34m)\u001b[0m\u001b[0;34m)\u001b[0m\u001b[0;34m\u001b[0m\u001b[0;34m\u001b[0m\u001b[0m\n\u001b[0;32m----> 5\u001b[0;31m   \u001b[0mresult\u001b[0m \u001b[0;34m=\u001b[0m \u001b[0msum\u001b[0m\u001b[0;34m(\u001b[0m\u001b[0mb\u001b[0m\u001b[0;34m)\u001b[0m\u001b[0;34m/\u001b[0m\u001b[0ma\u001b[0m\u001b[0;34m\u001b[0m\u001b[0;34m\u001b[0m\u001b[0m\n\u001b[0m\u001b[1;32m      6\u001b[0m   \u001b[0;31m# c.append(b)\u001b[0m\u001b[0;34m\u001b[0m\u001b[0;34m\u001b[0m\u001b[0;34m\u001b[0m\u001b[0m\n\u001b[1;32m      7\u001b[0m   \u001b[0;31m# result = sum(c)/a\u001b[0m\u001b[0;34m\u001b[0m\u001b[0;34m\u001b[0m\u001b[0;34m\u001b[0m\u001b[0m\n",
            "\u001b[0;31mTypeError\u001b[0m: 'int' object is not callable"
          ]
        }
      ]
    },
    {
      "cell_type": "markdown",
      "metadata": {
        "id": "bV4q0Wi9_vsP"
      },
      "source": [
        "# Count number of vowels in a string"
      ]
    },
    {
      "cell_type": "code",
      "metadata": {
        "colab": {
          "base_uri": "https://localhost:8080/"
        },
        "id": "Wigfsduu_zTu",
        "outputId": "112b84f7-d1b0-4f77-9154-55a54e9ff752"
      },
      "source": [
        "n = (input(\"Enter text\\n\"))\n",
        "vowel_counter = 0\n",
        "\n",
        "for i in n:\n",
        "  if (i=='a' or i=='e' or i == 'o' or i =='u'):\n",
        "    vowel_counter += 1\n",
        "\n",
        "print(\"NUmber of vowels in the text are\", vowel_counter)\n"
      ],
      "execution_count": 10,
      "outputs": [
        {
          "output_type": "stream",
          "name": "stdout",
          "text": [
            "Enter text\n",
            "bvfbcjyuumooaaafseeatea\n",
            "NUmber of vowels in the text are 12\n"
          ]
        }
      ]
    },
    {
      "cell_type": "markdown",
      "metadata": {
        "id": "_K27oSzLTfld"
      },
      "source": [
        "# Convert list into string"
      ]
    },
    {
      "cell_type": "code",
      "metadata": {
        "colab": {
          "base_uri": "https://localhost:8080/"
        },
        "id": "OzxXJ9JbThm4",
        "outputId": "66e66ef0-2799-4872-a22f-c8f2bbc58359"
      },
      "source": [
        "list1 = ['sunday','monday']\n",
        "\n",
        "combined = '-'.join(list1)\n",
        "print(combined)"
      ],
      "execution_count": 2,
      "outputs": [
        {
          "output_type": "stream",
          "name": "stdout",
          "text": [
            "sunday-monday\n"
          ]
        }
      ]
    },
    {
      "cell_type": "markdown",
      "metadata": {
        "id": "bq05Lfnk-bes"
      },
      "source": [
        "What is enumerate in Python?\n",
        "\n"
      ]
    },
    {
      "cell_type": "code",
      "metadata": {
        "id": "JWJb5_pU-s3a"
      },
      "source": [
        ""
      ],
      "execution_count": null,
      "outputs": []
    },
    {
      "cell_type": "markdown",
      "metadata": {
        "id": "7I4rFLNJ-p7A"
      },
      "source": [
        "Reverse a number in Python"
      ]
    },
    {
      "cell_type": "code",
      "metadata": {
        "colab": {
          "base_uri": "https://localhost:8080/"
        },
        "id": "vRNFyyXM-tld",
        "outputId": "8396012f-e28b-4b14-b80e-ea23f9c67e12"
      },
      "source": [
        "n = int(input(\"Enter number\"))\n",
        "\n",
        "reversal = 0\n",
        "\n",
        "while n>0:\n",
        "  digit = n%10\n",
        "  reversal = reversal * 10 + digit\n",
        "  n = n//10\n",
        "print(\"The reverse number is :\", reversal)"
      ],
      "execution_count": 6,
      "outputs": [
        {
          "output_type": "stream",
          "name": "stdout",
          "text": [
            "Enter number643346\n",
            "The reverse number is : 643346\n"
          ]
        }
      ]
    },
    {
      "cell_type": "markdown",
      "metadata": {
        "id": "OQcF1mRQT5Wt"
      },
      "source": [
        "# Convert list into tuple"
      ]
    },
    {
      "cell_type": "code",
      "metadata": {
        "id": "ve94UQlvT6-5"
      },
      "source": [
        ""
      ],
      "execution_count": null,
      "outputs": []
    },
    {
      "cell_type": "markdown",
      "metadata": {
        "id": "p_pw0J7WUsqc"
      },
      "source": [
        "Concatenate Strings"
      ]
    },
    {
      "cell_type": "code",
      "metadata": {
        "id": "eBeznLSiUuib"
      },
      "source": [
        ""
      ],
      "execution_count": null,
      "outputs": []
    },
    {
      "cell_type": "markdown",
      "metadata": {
        "id": "8Fvw_TeQUbeJ"
      },
      "source": [
        "Others:"
      ]
    },
    {
      "cell_type": "code",
      "metadata": {
        "colab": {
          "base_uri": "https://localhost:8080/"
        },
        "id": "U9E52ibiUc3T",
        "outputId": "093f8ef7-4ad8-47d4-e8c8-efa10a15afa6"
      },
      "source": [
        "name1 = ['Adam','Idris','Noah']\n",
        "print(name1[-1][-1])"
      ],
      "execution_count": 7,
      "outputs": [
        {
          "output_type": "stream",
          "name": "stdout",
          "text": [
            "h\n"
          ]
        }
      ]
    },
    {
      "cell_type": "markdown",
      "metadata": {
        "id": "bcFsxIwMAlWQ"
      },
      "source": [
        "# User input as list"
      ]
    },
    {
      "cell_type": "markdown",
      "metadata": {
        "id": "ZdPFsWE0BkVF"
      },
      "source": [
        "1. Using try block"
      ]
    },
    {
      "cell_type": "code",
      "metadata": {
        "id": "6XpjmpN4AnFD"
      },
      "source": [
        "try:\n",
        "  list1 = []\n",
        "  \n",
        "  while True:\n",
        "    list1.append(int(input(\"Enter list of number: \\n\")))\n",
        "except:\n",
        "  print(list1)"
      ],
      "execution_count": null,
      "outputs": []
    },
    {
      "cell_type": "markdown",
      "metadata": {
        "id": "Q2plApJXCctO"
      },
      "source": [
        "2. Using for loop"
      ]
    },
    {
      "cell_type": "code",
      "metadata": {
        "colab": {
          "base_uri": "https://localhost:8080/"
        },
        "id": "JEOjniI3BnV4",
        "outputId": "54e2ebe7-bc3a-4028-b493-e836a0226c17"
      },
      "source": [
        "list1 = []\n",
        "user = int(input(\"Enter list of number: \"))\n",
        "for i in range(0, user):\n",
        "  print(\"Enter the number\")\n",
        "  elem = int(input())\n",
        "\n",
        "  list1.append(elem)\n",
        "\n",
        "print(list1)"
      ],
      "execution_count": null,
      "outputs": [
        {
          "output_type": "stream",
          "name": "stdout",
          "text": [
            "Enter list of number: 4\n",
            "Enter the number\n",
            "2\n",
            "Enter the number\n",
            "4\n",
            "Enter the number\n",
            "5\n",
            "Enter the number\n",
            "6\n",
            "[2, 4, 5, 6]\n"
          ]
        }
      ]
    },
    {
      "cell_type": "markdown",
      "metadata": {
        "id": "jtu2MxjmQYmK"
      },
      "source": [
        "#Switch statements (Python has no switch case statements; only if-else statement)\n",
        "\n",
        "\n",
        "We will use C++\n",
        "\n",
        "Link to run C++ on Google Colab:\n",
        "https://www.geeksforgeeks.org/how-to-run-cuda-c-c-on-jupyter-notebook-in-google-colaboratory/"
      ]
    },
    {
      "cell_type": "code",
      "metadata": {
        "id": "jEs1BVBuQbnX"
      },
      "source": [
        "#include \n",
        "using namespace std;\n",
        " \n",
        "int main () {\n",
        "  \n",
        "  int marks = '10';\n",
        "\n",
        "  switch(grade) {\n",
        "    case '5' :\n",
        "      cout << \"You scored 5 marks\" << endl; \n",
        "         break;\n",
        "    case '6' :\n",
        "        cout << \"You scored 6 marks\" << endl;\n",
        "     case '7' :\n",
        "        cout << \"You scored 7 marks\" << endl;\n",
        "         break;\n",
        "      case 'D' :\n",
        "        cout << \"You scored 10 marks\" << endl;\n",
        "         break;\n",
        "      default :\n",
        "        cout << \"You scored 0 marks\" << endl;\n",
        "   }\n",
        "  cout << \"Your marks is \" << marks << endl;\n",
        " \n",
        "   return 0;\n",
        "}"
      ],
      "execution_count": null,
      "outputs": []
    },
    {
      "cell_type": "markdown",
      "metadata": {
        "id": "vxpx3LGbVq39"
      },
      "source": [
        "However, there are alternative other than Switch Case in Python\n",
        "\n",
        "1. If-Else Statement\n",
        "2. Dictionary Mapping\n",
        "3. Using classes"
      ]
    },
    {
      "cell_type": "markdown",
      "metadata": {
        "id": "MpsqTq1_WAgI"
      },
      "source": [
        "Method 1) If-Else Statement"
      ]
    },
    {
      "cell_type": "code",
      "metadata": {
        "colab": {
          "base_uri": "https://localhost:8080/"
        },
        "id": "xAy-3coIWEOP",
        "outputId": "6688add4-a727-420b-c249-9b6b96cb0771"
      },
      "source": [
        "fruit = input('Choose Mango, Banana, Durian\\n')\n",
        "\n",
        "if fruit == 'Mango':\n",
        "  print(\"You choose Mango\")\n",
        "elif fruit == 'Banana':\n",
        "  print('You choose banana')\n",
        "elif fruit == 'Durian':\n",
        "  print(\"You choose Durian\")\n",
        "else:\n",
        "  print('Choose among those 3 only')"
      ],
      "execution_count": null,
      "outputs": [
        {
          "output_type": "stream",
          "name": "stdout",
          "text": [
            "Choose Mango, Banana, Durian\n",
            "Mango\n",
            "You choose Mango\n"
          ]
        }
      ]
    },
    {
      "cell_type": "markdown",
      "metadata": {
        "id": "eH2ylv0wV7zX"
      },
      "source": [
        "Method 2) Dictionary Mapping"
      ]
    },
    {
      "cell_type": "code",
      "metadata": {
        "colab": {
          "base_uri": "https://localhost:8080/"
        },
        "id": "BbvMp6-pVoDx",
        "outputId": "5a5b6079-c163-452d-fd70-f364d6656b72"
      },
      "source": [
        "def monday():\n",
        "    return \"monday\"\n",
        "def tuesday():\n",
        "    return \"tuesday\"\n",
        "def wednesday():\n",
        "    return \"wednesday\"\n",
        "def thursday():\n",
        "    return \"thursday\"\n",
        "def friday():\n",
        "    return \"friday\"\n",
        "def saturday():\n",
        "    return \"saturday\"\n",
        "def sunday():\n",
        "    return \"sunday\"\n",
        "def default():\n",
        "    return \"Incorrect day\"\n",
        "\n",
        "switcher = {\n",
        "    1: monday,\n",
        "    2: tuesday,\n",
        "    3: wednesday,\n",
        "    4: thursday,\n",
        "    5: friday,\n",
        "    6: saturday,\n",
        "    7: sunday\n",
        "    }\n",
        "\n",
        "def switch(dayOfWeek):\n",
        "    return switcher.get(dayOfWeek, default)()\n",
        "\n",
        "print(switch(3))\n",
        "print(switch(5))"
      ],
      "execution_count": null,
      "outputs": [
        {
          "output_type": "stream",
          "name": "stdout",
          "text": [
            "wednesday\n",
            "friday\n"
          ]
        }
      ]
    },
    {
      "cell_type": "markdown",
      "metadata": {
        "id": "x14ZbxoSWHJU"
      },
      "source": [
        "Method 3) Using Classes"
      ]
    },
    {
      "cell_type": "code",
      "metadata": {
        "colab": {
          "base_uri": "https://localhost:8080/"
        },
        "id": "R9XDfUM1WJN4",
        "outputId": "9d8786ba-49bd-4497-87f1-f91650937ade"
      },
      "source": [
        "class PythonSwitch:\n",
        "    def day(self, dayOfWeek):\n",
        "        default = \"Incorrect day\"\n",
        "        return getattr(self, 'case_' + str(dayOfWeek), lambda: default)()\n",
        "\n",
        "    def case_1(self):\n",
        "        return \"monday\"\n",
        "\n",
        "    def case_2(self):\n",
        "        return \"tuesday\"\n",
        "\n",
        "    def case_3(self):\n",
        "        return \"wednesday\"\n",
        "\n",
        "    def case_4(self):\n",
        "       return \"thursday\"\n",
        "\n",
        "    def case_5(self):\n",
        "        return \"friday\"\n",
        "\n",
        "    def case_7(self):\n",
        "        return \"saturday\"\n",
        "    \n",
        "    def case_6(self):\n",
        "        return \"sunday\"\n",
        "   \n",
        "my_switch = PythonSwitch()\n",
        "\n",
        "print (my_switch.day(1))\n",
        "\n",
        "print (my_switch.day(3))"
      ],
      "execution_count": null,
      "outputs": [
        {
          "output_type": "stream",
          "name": "stdout",
          "text": [
            "monday\n",
            "wednesday\n"
          ]
        }
      ]
    },
    {
      "cell_type": "code",
      "metadata": {
        "colab": {
          "base_uri": "https://localhost:8080/"
        },
        "id": "YjmHnH9QGMy6",
        "outputId": "04ee139b-8dc8-45a3-d4e3-e9183fee80a5"
      },
      "source": [
        "# A Sample class with init method\n",
        "class Person:\n",
        "   \n",
        "    # init method or constructor \n",
        "    def __init__(self, name, age):\n",
        "        self.name = name\n",
        "        self.age = age\n",
        "   \n",
        "    # Sample Method \n",
        "    def say_hi(self):\n",
        "        print('Hello, my name is', self.name,'and i am',self.age,'years old')\n",
        "   \n",
        "p = Person('Cyrill','20')\n",
        "p.say_hi()"
      ],
      "execution_count": 1,
      "outputs": [
        {
          "output_type": "stream",
          "name": "stdout",
          "text": [
            "Hello, my name is Cyrill and i am 20 years old\n"
          ]
        }
      ]
    },
    {
      "cell_type": "markdown",
      "metadata": {
        "id": "h2aHVBaWBn6x"
      },
      "source": [
        "#What is Huffman Coding Algorithms?\n",
        "\n",
        "\n",
        "\n",
        "---\n",
        "\n",
        "\n",
        "\n",
        "Huffman coding is a lossless data compression algorithm.There are mainly two parts. First one to create a Huffman tree, and another one to traverse the tree to find codes.\n",
        "\n",
        "For an example, consider some strings “YYYZXXYYX”, the frequency of character Y is larger than X and the character Z has the least frequency. So the length of the code for Y is smaller than X, and code for X will be smaller than Z.\n",
        "\n",
        "\n",
        "Applications of Huffman Coding:\n",
        "1.They are used for transmitting fax and text.\n",
        "2.They are used by conventional compression formats like PKZIP, GZIP, etc."
      ]
    },
    {
      "cell_type": "markdown",
      "metadata": {
        "id": "kIDORU1jecD_"
      },
      "source": [
        "#Number of Inversions\n",
        "\n",
        "Inversion Count for an array indicates – how far (or close) the array is from being sorted. If array is already sorted then inversion count is 0. "
      ]
    },
    {
      "cell_type": "code",
      "metadata": {
        "id": "prdMDe9LgJJC",
        "colab": {
          "base_uri": "https://localhost:8080/"
        },
        "outputId": "c40d7dde-4ce1-436f-8558-6c40f56d198e"
      },
      "source": [
        "def getInvCount(arr, n):\n",
        "  \n",
        "    inv_count = 0\n",
        "    for i in range(n):\n",
        "        for j in range(i + 1, n):\n",
        "            if (arr[i] > arr[j]):\n",
        "                inv_count += 1\n",
        "  \n",
        "    return inv_count\n",
        "  \n",
        "# Driver Code\n",
        "arr = [1, 20, 6, 4, 5]\n",
        "n = len(arr)\n",
        "print(\"Number of inversions are\",\n",
        "              getInvCount(arr, n))"
      ],
      "execution_count": 15,
      "outputs": [
        {
          "output_type": "stream",
          "name": "stdout",
          "text": [
            "Number of inversions are 5\n"
          ]
        }
      ]
    },
    {
      "cell_type": "markdown",
      "metadata": {
        "id": "SnhtPrYGeo-j"
      },
      "source": [
        "#Prime Sieving\n",
        "\n",
        "\n",
        "Given a number n, print all primes smaller than or equal to n. It is also given that n is a small number. \n",
        "For example, if n is 10, the output should be “2, 3, 5, 7”. If n is 20, the output should be “2, 3, 5, 7, 11, 13, 17, 19”."
      ]
    },
    {
      "cell_type": "code",
      "metadata": {
        "id": "bujXUmD_gJne",
        "colab": {
          "base_uri": "https://localhost:8080/"
        },
        "outputId": "aede9548-12c8-410f-ab8c-7d3437a11a9e"
      },
      "source": [
        "def SteveOfErostetics(m):\n",
        "  prime = [True for i in range (n + 1)]\n",
        "  p = 2\n",
        "  while (p * p <= n):\n",
        "    if prime[p] == True:\n",
        "      for i in range(p ** 2, n + 1, p):\n",
        "        prime[i] = False\n",
        "    p+=1\n",
        "  prime[0] = False\n",
        "  prime[1] = False\n",
        "\n",
        "  for p in range(n + 1):\n",
        "    if prime[p]:\n",
        "      print (p)\n",
        "\n",
        "if __name__=='__main__':\n",
        "  n = int(input(\"Enter number\"))\n",
        "  print(\"than or equal to \", n) \n",
        "  SteveOfErostetics(n)\n",
        "\n"
      ],
      "execution_count": 21,
      "outputs": [
        {
          "output_type": "stream",
          "name": "stdout",
          "text": [
            "Enter number40\n",
            "than or equal to  40\n",
            "2\n",
            "3\n",
            "5\n",
            "7\n",
            "11\n",
            "13\n",
            "17\n",
            "19\n",
            "23\n",
            "29\n",
            "31\n",
            "37\n"
          ]
        }
      ]
    }
  ]
}